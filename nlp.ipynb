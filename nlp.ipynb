{
  "cells": [
    {
      "cell_type": "code",
      "execution_count": null,
      "metadata": {
        "id": "FySUkedqfDk0"
      },
      "outputs": [],
      "source": [
        "! pip install transformers\n",
        "! pip install datasets"
      ],
      "id": "FySUkedqfDk0"
    },
    {
      "cell_type": "code",
      "execution_count": null,
      "metadata": {
        "id": "poKIgPsZW1Nf"
      },
      "outputs": [],
      "source": [
        "import pandas as pd\n",
        "import matplotlib.pyplot as plt\n",
        "import numpy as np\n",
        "from collections import defaultdict, Counter\n",
        "import torch\n",
        "from tqdm import tqdm\n",
        "import nltk\n",
        "import random\n",
        "import seaborn as sns\n",
        "import json\n",
        "from termcolor import colored\n",
        "\n",
        "import torch\n",
        "import torch.nn as nn\n",
        "import torch.nn.functional as F\n",
        "import torch.optim as optim"
      ],
      "id": "poKIgPsZW1Nf"
    },
    {
      "cell_type": "code",
      "source": [
        "from torchtext.vocab import vocab, FastText\n",
        "from nltk.tokenize import TweetTokenizer\n",
        "from transformers import AutoTokenizer, BertModel\n",
        "from torch.utils.data import DataLoader\n",
        "args = {'bsize': 64}"
      ],
      "metadata": {
        "id": "zTZ6wPpZ0rBO"
      },
      "id": "zTZ6wPpZ0rBO",
      "execution_count": null,
      "outputs": []
    },
    {
      "cell_type": "code",
      "execution_count": null,
      "metadata": {
        "colab": {
          "base_uri": "https://localhost:8080/"
        },
        "id": "20dcfa27",
        "outputId": "68e092e0-ca68-4c35-f78a-7c3769ab780b"
      },
      "outputs": [
        {
          "output_type": "stream",
          "name": "stdout",
          "text": [
            "DEVICE =  Tesla P100-PCIE-16GB\n"
          ]
        }
      ],
      "source": [
        "if torch.cuda.is_available():\n",
        "    device = 'cuda'\n",
        "    print('DEVICE = ', torch.cuda.get_device_name(0) )\n",
        "else:\n",
        "    device = 'cpu'\n",
        "    print('DEVICE = ', 'CPU')"
      ],
      "id": "20dcfa27"
    },
    {
      "cell_type": "markdown",
      "metadata": {
        "id": "46bc495c"
      },
      "source": [
        "# Data exploration and preprocessing"
      ],
      "id": "46bc495c"
    },
    {
      "cell_type": "code",
      "source": [
        "url = 'https://drive.google.com/uc?export=download&id=125EfUNkfDxolMSOAazmP9xLeVtvNgC2R'\n",
        "reviews = pd.read_csv(url)\n",
        "reviews = reviews[['business_id','text','useful','stars']]"
      ],
      "metadata": {
        "id": "Arv-JrEtYIZj"
      },
      "id": "Arv-JrEtYIZj",
      "execution_count": null,
      "outputs": []
    },
    {
      "cell_type": "markdown",
      "source": [
        "In the reduced dataset, there is 1 millions reviews (7 millions initially). Lets firstlook at the repartition of reviews per business. We don't want to have some business with only few review as it will be difficult to evaluate the usefulness of the review."
      ],
      "metadata": {
        "id": "z6Lk2ouz_Ht4"
      },
      "id": "z6Lk2ouz_Ht4"
    },
    {
      "cell_type": "code",
      "source": [
        "nbr_reviews = reviews[['business_id','text']].groupby('business_id').count()"
      ],
      "metadata": {
        "id": "SD_0X-ez9_Ge"
      },
      "id": "SD_0X-ez9_Ge",
      "execution_count": null,
      "outputs": []
    },
    {
      "cell_type": "code",
      "source": [
        "print('the minimal number of review per business is',nbr_reviews['text'].min())\n",
        "print('the minimal number of review per business is', nbr_reviews['text'].max())"
      ],
      "metadata": {
        "colab": {
          "base_uri": "https://localhost:8080/"
        },
        "id": "5-IV5rSg9_Iy",
        "outputId": "bb21ebca-a23c-4364-fe2b-5059a1dd3526"
      },
      "id": "5-IV5rSg9_Iy",
      "execution_count": null,
      "outputs": [
        {
          "output_type": "stream",
          "name": "stdout",
          "text": [
            "the minimal number of review per business is 1\n",
            "the minimal number of review per business is 1104\n"
          ]
        }
      ]
    },
    {
      "cell_type": "code",
      "source": [
        "nbr_reviews[nbr_reviews['text']< 200].hist('text', bins = 100)"
      ],
      "metadata": {
        "colab": {
          "base_uri": "https://localhost:8080/",
          "height": 316
        },
        "id": "D0WNL8V29_Nf",
        "outputId": "f7762202-a141-49ea-b975-6978d5744d38"
      },
      "id": "D0WNL8V29_Nf",
      "execution_count": null,
      "outputs": [
        {
          "output_type": "execute_result",
          "data": {
            "text/plain": [
              "array([[<matplotlib.axes._subplots.AxesSubplot object at 0x7fa02a5e9550>]],\n",
              "      dtype=object)"
            ]
          },
          "metadata": {},
          "execution_count": 10
        },
        {
          "output_type": "display_data",
          "data": {
            "text/plain": [
              "<Figure size 432x288 with 1 Axes>"
            ],
            "image/png": "[encoded data removed]"
          },
          "metadata": {
            "needs_background": "light"
          }
        }
      ]
    },
    {
      "cell_type": "markdown",
      "source": [
        "As we see, there is a number of business with only few reviews, we will have to remove them. Now lets look at the repartition of the maximum number of useful tag for reviews per business. It will help us to construct the rule of usefulness"
      ],
      "metadata": {
        "id": "zDA7Gy-X_a-8"
      },
      "id": "zDA7Gy-X_a-8"
    },
    {
      "cell_type": "code",
      "source": [
        "nbr_useful = reviews[['business_id','useful']].groupby('business_id').max()\n",
        "nbr_useful.value_counts().sort_index().cumsum().plot()"
      ],
      "metadata": {
        "colab": {
          "base_uri": "https://localhost:8080/",
          "height": 297
        },
        "id": "GqP2tyfg9_QF",
        "outputId": "86160ac1-c299-412b-a0bd-10801ce34674"
      },
      "id": "GqP2tyfg9_QF",
      "execution_count": null,
      "outputs": [
        {
          "output_type": "execute_result",
          "data": {
            "text/plain": [
              "<matplotlib.axes._subplots.AxesSubplot at 0x7fa02a3f7b10>"
            ]
          },
          "metadata": {},
          "execution_count": 11
        },
        {
          "output_type": "display_data",
          "data": {
            "text/plain": [
              "<Figure size 432x288 with 1 Axes>"
            ],
            "image/png": "[encoded data removed]"
          },
          "metadata": {
            "needs_background": "light"
          }
        }
      ]
    },
    {
      "cell_type": "markdown",
      "source": [
        "We see that the usefull tags are generally low. There is only few reviews that are considered by a great number of people as usefull. We want our model to filter all the reviews without interest so we will fix the threshold high\n",
        "\n",
        "Now we can start preprocessing our data"
      ],
      "metadata": {
        "id": "v1QV9gih__qM"
      },
      "id": "v1QV9gih__qM"
    },
    {
      "cell_type": "code",
      "source": [
        "# here we load the business dataset to get the business categories\n",
        "url = 'https://drive.google.com/uc?export=download&id=1DYT-KzhueQSZ_ITZAlghq0gLjzG6MZw1'\n",
        "business = pd.read_csv( ) \n",
        "business = business[['business_id','categories']].dropna()\n",
        "business['categories'] = business['categories'].transform(lambda x : x.split(', '))"
      ],
      "metadata": {
        "colab": {
          "base_uri": "https://localhost:8080/"
        },
        "id": "6sxeb18Q9_Sb",
        "outputId": "3045e6b6-8525-42c3-f9dd-60f60c28182a"
      },
      "id": "6sxeb18Q9_Sb",
      "execution_count": null,
      "outputs": [
        {
          "output_type": "stream",
          "name": "stderr",
          "text": [
            "/usr/local/lib/python3.7/dist-packages/IPython/core/interactiveshell.py:2882: DtypeWarning: Columns (6,30) have mixed types.Specify dtype option on import or set low_memory=False.\n",
            "  exec(code_obj, self.user_global_ns, self.user_ns)\n"
          ]
        }
      ]
    },
    {
      "cell_type": "code",
      "source": [
        "reviews = reviews.merge((nbr_useful*2/3), 'left', on = 'business_id', copy = False) # threshold of usefulness\n",
        "reviews = reviews.merge(business, 'left', on = 'business_id', copy = False)\n",
        "reviews = reviews.merge(nbr_reviews[nbr_reviews['text']>=10], 'left', on = 'business_id', copy = False) #filter business with less than 10 reviews\n",
        "reviews['useful'] = reviews['useful_x']>reviews['useful_y'] # create the useful label using the threshold computed before\n",
        "reviews = reviews.dropna(axis = 0)\n",
        "\n",
        "# in the following, we sample 5 reviews per business\n",
        "reviews['number'] = 1\n",
        "data = reviews[['business_id','number']].groupby('business_id').cumsum()\n",
        "reviews = reviews[data['number']<=5]\n",
        "\n",
        "\n",
        "reviews = reviews[['text_x','stars','categories','useful']]\n",
        "reviews.columns = ['text','stars','categories','useful']\n",
        "del business"
      ],
      "metadata": {
        "colab": {
          "base_uri": "https://localhost:8080/"
        },
        "id": "m2snrswi9_Uy",
        "outputId": "29f42acb-2841-4b63-de21-7313589b5212"
      },
      "id": "m2snrswi9_Uy",
      "execution_count": null,
      "outputs": [
        {
          "output_type": "stream",
          "name": "stderr",
          "text": [
            "/usr/local/lib/python3.7/dist-packages/ipykernel_launcher.py:8: SettingWithCopyWarning: \n",
            "A value is trying to be set on a copy of a slice from a DataFrame.\n",
            "Try using .loc[row_indexer,col_indexer] = value instead\n",
            "\n",
            "See the caveats in the documentation: https://pandas.pydata.org/pandas-docs/stable/user_guide/indexing.html#returning-a-view-versus-a-copy\n",
            "  \n"
          ]
        }
      ]
    },
    {
      "cell_type": "markdown",
      "source": [
        "Now we want to remove the categories that are under represented in our dataset. We will keep only the top 140 categories most represented and show the repartition."
      ],
      "metadata": {
        "id": "gmE5ccckBgvM"
      },
      "id": "gmE5ccckBgvM"
    },
    {
      "cell_type": "code",
      "source": [
        "categ = defaultdict(int)\n",
        "for _ , row in reviews.iterrows():\n",
        "    categories = row['categories']\n",
        "    for elem in categories : \n",
        "        categ[elem]+=1\n",
        "categ = dict(sorted(categ.items(), key=lambda item: item[1], reverse=True)[:140])\n",
        "print('in our dataset, there is',len(categ),'number of categories')"
      ],
      "metadata": {
        "colab": {
          "base_uri": "https://localhost:8080/"
        },
        "id": "QTokw0Ut9_XJ",
        "outputId": "7ba15652-2e26-4ac2-fe5d-1e539aaa8f9b"
      },
      "id": "QTokw0Ut9_XJ",
      "execution_count": null,
      "outputs": [
        {
          "output_type": "stream",
          "name": "stdout",
          "text": [
            "in our dataset, there is 140 number of categories\n"
          ]
        }
      ]
    },
    {
      "cell_type": "code",
      "source": [
        "plt.plot( list(categ.values()), color='blue')\n",
        "plt.xlabel('category')\n",
        "plt.ylabel('number of business tagged')\n",
        "plt.show"
      ],
      "metadata": {
        "colab": {
          "base_uri": "https://localhost:8080/",
          "height": 297
        },
        "id": "b9mgW6Ac9_Ze",
        "outputId": "2124ddb9-e21c-46e1-f3d9-ffeb9783b47b"
      },
      "id": "b9mgW6Ac9_Ze",
      "execution_count": null,
      "outputs": [
        {
          "output_type": "execute_result",
          "data": {
            "text/plain": [
              "<function matplotlib.pyplot.show>"
            ]
          },
          "metadata": {},
          "execution_count": 15
        },
        {
          "output_type": "display_data",
          "data": {
            "text/plain": [
              "<Figure size 432x288 with 1 Axes>"
            ],
            "image/png": "[encoded data removed]"
          },
          "metadata": {
            "needs_background": "light"
          }
        }
      ]
    },
    {
      "cell_type": "markdown",
      "source": [
        "Now lets look at the repartition of stars rating"
      ],
      "metadata": {
        "id": "GCpS8sYTCIkB"
      },
      "id": "GCpS8sYTCIkB"
    },
    {
      "cell_type": "code",
      "source": [
        "stars = reviews.groupby('stars').count()['useful'].to_dict()\n",
        "sns.barplot(x=list(stars.keys()),y=list(stars.values()))\n",
        "plt.xlabel('stars')\n",
        "plt.show()"
      ],
      "metadata": {
        "colab": {
          "base_uri": "https://localhost:8080/",
          "height": 279
        },
        "id": "6bWyVLtn9_b2",
        "outputId": "a9508d73-5973-4117-c912-f5e5cd504c73"
      },
      "id": "6bWyVLtn9_b2",
      "execution_count": null,
      "outputs": [
        {
          "output_type": "display_data",
          "data": {
            "text/plain": [
              "<Figure size 432x288 with 1 Axes>"
            ],
            "image/png": "[encoded data removed]"
          },
          "metadata": {
            "needs_background": "light"
          }
        }
      ]
    },
    {
      "cell_type": "code",
      "source": [
        "x = list(range(len(categ)))\n",
        "random.shuffle(x)\n",
        "map_categories = dict(zip(categ.keys(),x))\n",
        "\n",
        "replace = []\n",
        "\n",
        "reviews['stars'] = reviews['stars']-1  # stars label (0,1,2,3,4)\n",
        "reviews['useful'] = 1 * reviews['useful'] # useful label (0,1)\n",
        "\n",
        "# categories label [0,0,..,0,1,0,..]\n",
        "def replace(x):\n",
        "  ind = []\n",
        "  for elem in x : \n",
        "    if elem in map_categories:\n",
        "        ind.append(map_categories[elem])\n",
        "  res = np.zeros(len(categ))\n",
        "  res[ind] = 1\n",
        "  return(np.array(res))\n",
        "\n",
        "reviews['categories'] = reviews['categories'].transform(replace)\n",
        "nbr_categ = reviews['categories'].apply(np.sum)\n",
        "print(\"the mean number of categories per business is \", nbr_categ.mean())\n",
        "reviews = reviews[nbr_categ>0] # we keep the business with categories in the 140top categories"
      ],
      "metadata": {
        "colab": {
          "base_uri": "https://localhost:8080/"
        },
        "id": "0hBjVLQ49_d7",
        "outputId": "0f6f88b8-dde4-4a29-f66d-073f6d6096d0"
      },
      "id": "0hBjVLQ49_d7",
      "execution_count": null,
      "outputs": [
        {
          "output_type": "stream",
          "name": "stdout",
          "text": [
            "the mean number of categories per business is  4.56142050720364\n"
          ]
        }
      ]
    },
    {
      "cell_type": "code",
      "source": [
        "sort = sorted(map_categories.items(), key=lambda item: item[1])\n",
        "unmap_categories = []\n",
        "for elem in sort:\n",
        "    unmap_categories.append(elem[0])"
      ],
      "metadata": {
        "id": "yaC4svL_xJO0"
      },
      "id": "yaC4svL_xJO0",
      "execution_count": null,
      "outputs": []
    },
    {
      "cell_type": "code",
      "source": [
        "reviews"
      ],
      "metadata": {
        "colab": {
          "base_uri": "https://localhost:8080/",
          "height": 423
        },
        "id": "2Y0EK7w5EMgz",
        "outputId": "820282b7-5d23-44f8-aeb2-8e5147c586cf"
      },
      "id": "2Y0EK7w5EMgz",
      "execution_count": null,
      "outputs": [
        {
          "output_type": "execute_result",
          "data": {
            "text/plain": [
              "                                                     text  stars  \\\n",
              "0       Best hotpot ever! Pre-covid I came here every ...    4.0   \n",
              "2       I'm willing to admit I eat here once a week. I...    4.0   \n",
              "4       Authentic Thai Food!!! Best I've had in a long...    4.0   \n",
              "6       The hummus is delicious! Friendly, fast, good ...    4.0   \n",
              "8       Ok well my wife and I had lunch at the Honu . ...    2.0   \n",
              "...                                                   ...    ...   \n",
              "861553  Who would think the best burritos/tortas in th...    4.0   \n",
              "865913  Favorite place to order from! Sushi is very co...    4.0   \n",
              "870399  Literally the  worst. Me and my friends got ch...    0.0   \n",
              "876648  Not as much things to do as we anticipated. Wh...    2.0   \n",
              "909235  Nice place! No smoking (NICE!), very clean, go...    4.0   \n",
              "\n",
              "                                               categories  useful  \n",
              "0       [0.0, 0.0, 0.0, 0.0, 0.0, 0.0, 0.0, 0.0, 0.0, ...       0  \n",
              "2       [0.0, 0.0, 0.0, 0.0, 0.0, 0.0, 1.0, 0.0, 0.0, ...       0  \n",
              "4       [0.0, 0.0, 0.0, 0.0, 0.0, 0.0, 1.0, 0.0, 0.0, ...       0  \n",
              "6       [0.0, 0.0, 0.0, 0.0, 0.0, 0.0, 0.0, 0.0, 0.0, ...       0  \n",
              "8       [0.0, 0.0, 0.0, 0.0, 0.0, 1.0, 0.0, 0.0, 0.0, ...       0  \n",
              "...                                                   ...     ...  \n",
              "861553  [0.0, 0.0, 0.0, 0.0, 0.0, 1.0, 0.0, 0.0, 0.0, ...       0  \n",
              "865913  [0.0, 0.0, 0.0, 0.0, 0.0, 0.0, 0.0, 0.0, 0.0, ...       0  \n",
              "870399  [0.0, 0.0, 0.0, 0.0, 0.0, 1.0, 0.0, 0.0, 0.0, ...       0  \n",
              "876648  [0.0, 0.0, 0.0, 0.0, 0.0, 0.0, 0.0, 0.0, 0.0, ...       0  \n",
              "909235  [0.0, 0.0, 0.0, 0.0, 0.0, 0.0, 0.0, 0.0, 0.0, ...       0  \n",
              "\n",
              "[118550 rows x 4 columns]"
            ],
            "text/html": [
              "\n",
              "  <div id=\"df-e6e255cd-930e-483e-8044-74fd4286482b\">\n",
              "    <div class=\"colab-df-container\">\n",
              "      <div>\n",
              "<style scoped>\n",
              "    .dataframe tbody tr th:only-of-type {\n",
              "        vertical-align: middle;\n",
              "    }\n",
              "\n",
              "    .dataframe tbody tr th {\n",
              "        vertical-align: top;\n",
              "    }\n",
              "\n",
              "    .dataframe thead th {\n",
              "        text-align: right;\n",
              "    }\n",
              "</style>\n",
              "<table border=\"1\" class=\"dataframe\">\n",
              "  <thead>\n",
              "    <tr style=\"text-align: right;\">\n",
              "      <th></th>\n",
              "      <th>text</th>\n",
              "      <th>stars</th>\n",
              "      <th>categories</th>\n",
              "      <th>useful</th>\n",
              "    </tr>\n",
              "  </thead>\n",
              "  <tbody>\n",
              "    <tr>\n",
              "      <th>0</th>\n",
              "      <td>Best hotpot ever! Pre-covid I came here every ...</td>\n",
              "      <td>4.0</td>\n",
              "      <td>[0.0, 0.0, 0.0, 0.0, 0.0, 0.0, 0.0, 0.0, 0.0, ...</td>\n",
              "      <td>0</td>\n",
              "    </tr>\n",
              "    <tr>\n",
              "      <th>2</th>\n",
              "      <td>I'm willing to admit I eat here once a week. I...</td>\n",
              "      <td>4.0</td>\n",
              "      <td>[0.0, 0.0, 0.0, 0.0, 0.0, 0.0, 1.0, 0.0, 0.0, ...</td>\n",
              "      <td>0</td>\n",
              "    </tr>\n",
              "    <tr>\n",
              "      <th>4</th>\n",
              "      <td>Authentic Thai Food!!! Best I've had in a long...</td>\n",
              "      <td>4.0</td>\n",
              "      <td>[0.0, 0.0, 0.0, 0.0, 0.0, 0.0, 1.0, 0.0, 0.0, ...</td>\n",
              "      <td>0</td>\n",
              "    </tr>\n",
              "    <tr>\n",
              "      <th>6</th>\n",
              "      <td>The hummus is delicious! Friendly, fast, good ...</td>\n",
              "      <td>4.0</td>\n",
              "      <td>[0.0, 0.0, 0.0, 0.0, 0.0, 0.0, 0.0, 0.0, 0.0, ...</td>\n",
              "      <td>0</td>\n",
              "    </tr>\n",
              "    <tr>\n",
              "      <th>8</th>\n",
              "      <td>Ok well my wife and I had lunch at the Honu . ...</td>\n",
              "      <td>2.0</td>\n",
              "      <td>[0.0, 0.0, 0.0, 0.0, 0.0, 1.0, 0.0, 0.0, 0.0, ...</td>\n",
              "      <td>0</td>\n",
              "    </tr>\n",
              "    <tr>\n",
              "      <th>...</th>\n",
              "      <td>...</td>\n",
              "      <td>...</td>\n",
              "      <td>...</td>\n",
              "      <td>...</td>\n",
              "    </tr>\n",
              "    <tr>\n",
              "      <th>861553</th>\n",
              "      <td>Who would think the best burritos/tortas in th...</td>\n",
              "      <td>4.0</td>\n",
              "      <td>[0.0, 0.0, 0.0, 0.0, 0.0, 1.0, 0.0, 0.0, 0.0, ...</td>\n",
              "      <td>0</td>\n",
              "    </tr>\n",
              "    <tr>\n",
              "      <th>865913</th>\n",
              "      <td>Favorite place to order from! Sushi is very co...</td>\n",
              "      <td>4.0</td>\n",
              "      <td>[0.0, 0.0, 0.0, 0.0, 0.0, 0.0, 0.0, 0.0, 0.0, ...</td>\n",
              "      <td>0</td>\n",
              "    </tr>\n",
              "    <tr>\n",
              "      <th>870399</th>\n",
              "      <td>Literally the  worst. Me and my friends got ch...</td>\n",
              "      <td>0.0</td>\n",
              "      <td>[0.0, 0.0, 0.0, 0.0, 0.0, 1.0, 0.0, 0.0, 0.0, ...</td>\n",
              "      <td>0</td>\n",
              "    </tr>\n",
              "    <tr>\n",
              "      <th>876648</th>\n",
              "      <td>Not as much things to do as we anticipated. Wh...</td>\n",
              "      <td>2.0</td>\n",
              "      <td>[0.0, 0.0, 0.0, 0.0, 0.0, 0.0, 0.0, 0.0, 0.0, ...</td>\n",
              "      <td>0</td>\n",
              "    </tr>\n",
              "    <tr>\n",
              "      <th>909235</th>\n",
              "      <td>Nice place! No smoking (NICE!), very clean, go...</td>\n",
              "      <td>4.0</td>\n",
              "      <td>[0.0, 0.0, 0.0, 0.0, 0.0, 0.0, 0.0, 0.0, 0.0, ...</td>\n",
              "      <td>0</td>\n",
              "    </tr>\n",
              "  </tbody>\n",
              "</table>\n",
              "<p>118550 rows × 4 columns</p>\n",
              "</div>\n",
              "      <button class=\"colab-df-convert\" onclick=\"convertToInteractive('df-e6e255cd-930e-483e-8044-74fd4286482b')\"\n",
              "              title=\"Convert this dataframe to an interactive table.\"\n",
              "              style=\"display:none;\">\n",
              "        \n",
              "  <svg xmlns=\"http://www.w3.org/2000/svg\" height=\"24px\"viewBox=\"0 0 24 24\"\n",
              "       width=\"24px\">\n",
              "    <path d=\"M0 0h24v24H0V0z\" fill=\"none\"/>\n",
              "    <path d=\"M18.56 5.44l.94 2.06.94-2.06 2.06-.94-2.06-.94-.94-2.06-.94 2.06-2.06.94zm-11 1L8.5 8.5l.94-2.06 2.06-.94-2.06-.94L8.5 2.5l-.94 2.06-2.06.94zm10 10l.94 2.06.94-2.06 2.06-.94-2.06-.94-.94-2.06-.94 2.06-2.06.94z\"/><path d=\"M17.41 7.96l-1.37-1.37c-.4-.4-.92-.59-1.43-.59-.52 0-1.04.2-1.43.59L10.3 9.45l-7.72 7.72c-.78.78-.78 2.05 0 2.83L4 21.41c.39.39.9.59 1.41.59.51 0 1.02-.2 1.41-.59l7.78-7.78 2.81-2.81c.8-.78.8-2.07 0-2.86zM5.41 20L4 18.59l7.72-7.72 1.47 1.35L5.41 20z\"/>\n",
              "  </svg>\n",
              "      </button>\n",
              "      \n",
              "  <style>\n",
              "    .colab-df-container {\n",
              "      display:flex;\n",
              "      flex-wrap:wrap;\n",
              "      gap: 12px;\n",
              "    }\n",
              "\n",
              "    .colab-df-convert {\n",
              "      background-color: #E8F0FE;\n",
              "      border: none;\n",
              "      border-radius: 50%;\n",
              "      cursor: pointer;\n",
              "      display: none;\n",
              "      fill: #1967D2;\n",
              "      height: 32px;\n",
              "      padding: 0 0 0 0;\n",
              "      width: 32px;\n",
              "    }\n",
              "\n",
              "    .colab-df-convert:hover {\n",
              "      background-color: #E2EBFA;\n",
              "      box-shadow: 0px 1px 2px rgba(60, 64, 67, 0.3), 0px 1px 3px 1px rgba(60, 64, 67, 0.15);\n",
              "      fill: #174EA6;\n",
              "    }\n",
              "\n",
              "    [theme=dark] .colab-df-convert {\n",
              "      background-color: #3B4455;\n",
              "      fill: #D2E3FC;\n",
              "    }\n",
              "\n",
              "    [theme=dark] .colab-df-convert:hover {\n",
              "      background-color: #434B5C;\n",
              "      box-shadow: 0px 1px 3px 1px rgba(0, 0, 0, 0.15);\n",
              "      filter: drop-shadow(0px 1px 2px rgba(0, 0, 0, 0.3));\n",
              "      fill: #FFFFFF;\n",
              "    }\n",
              "  </style>\n",
              "\n",
              "      <script>\n",
              "        const buttonEl =\n",
              "          document.querySelector('#df-e6e255cd-930e-483e-8044-74fd4286482b button.colab-df-convert');\n",
              "        buttonEl.style.display =\n",
              "          google.colab.kernel.accessAllowed ? 'block' : 'none';\n",
              "\n",
              "        async function convertToInteractive(key) {\n",
              "          const element = document.querySelector('#df-e6e255cd-930e-483e-8044-74fd4286482b');\n",
              "          const dataTable =\n",
              "            await google.colab.kernel.invokeFunction('convertToInteractive',\n",
              "                                                     [key], {});\n",
              "          if (!dataTable) return;\n",
              "\n",
              "          const docLinkHtml = 'Like what you see? Visit the ' +\n",
              "            '<a target=\"_blank\" href=https://colab.research.google.com/notebooks/data_table.ipynb>data table notebook</a>'\n",
              "            + ' to learn more about interactive tables.';\n",
              "          element.innerHTML = '';\n",
              "          dataTable['output_type'] = 'display_data';\n",
              "          await google.colab.output.renderOutput(dataTable, element);\n",
              "          const docLink = document.createElement('div');\n",
              "          docLink.innerHTML = docLinkHtml;\n",
              "          element.appendChild(docLink);\n",
              "        }\n",
              "      </script>\n",
              "    </div>\n",
              "  </div>\n",
              "  "
            ]
          },
          "metadata": {},
          "execution_count": 21
        }
      ]
    },
    {
      "cell_type": "markdown",
      "source": [
        "Lets look at the repartition of word in our reviews"
      ],
      "metadata": {
        "id": "ht3EoGsjDBDP"
      },
      "id": "ht3EoGsjDBDP"
    },
    {
      "cell_type": "code",
      "source": [
        "from nltk.tokenize import RegexpTokenizer\n",
        "nltk.download('punkt')\n",
        "\n",
        "tokenizer = RegexpTokenizer(r'\\w+')\n",
        "\n",
        "word_counter=defaultdict(int)\n",
        "word_len=[]\n",
        "text_len=[]\n",
        "\n",
        "for review in tqdm(reviews.iterrows()):\n",
        "  text = review[1][\"text\"]\n",
        "\n",
        "  nb_characters=len(text)-text.count(\" \")\n",
        "  word_len.append(nb_characters)\n",
        "  tokenized_article_text= tokenizer.tokenize(text)\n",
        "  text_len.append(len(tokenized_article_text))\n",
        "\n",
        "  for word in tokenized_article_text:\n",
        "      word_counter[word]+=1"
      ],
      "metadata": {
        "colab": {
          "base_uri": "https://localhost:8080/"
        },
        "id": "sMB0xGgc9_gR",
        "outputId": "9ba9bb30-3501-46fd-d0f8-0319334d4d3f"
      },
      "id": "sMB0xGgc9_gR",
      "execution_count": null,
      "outputs": [
        {
          "output_type": "stream",
          "name": "stdout",
          "text": [
            "[nltk_data] Downloading package punkt to /root/nltk_data...\n",
            "[nltk_data]   Package punkt is already up-to-date!\n"
          ]
        },
        {
          "output_type": "stream",
          "name": "stderr",
          "text": [
            "118550it [00:12, 9736.92it/s]\n"
          ]
        }
      ]
    },
    {
      "cell_type": "code",
      "source": [
        "sorted_word=sorted(word_counter, key=word_counter.get, reverse=True)\n",
        "sorted_word_dict={word:word_counter[word] for word in sorted_word}\n",
        "top_words=sorted_word[:15]\n",
        "top_dict={word:word_counter[word] for word in top_words}\n",
        "print(top_dict.keys())"
      ],
      "metadata": {
        "colab": {
          "base_uri": "https://localhost:8080/"
        },
        "id": "Sb5ppt0e9_ik",
        "outputId": "30ae97a7-e225-4c26-e1e4-c59fe74a50a2"
      },
      "id": "Sb5ppt0e9_ik",
      "execution_count": null,
      "outputs": [
        {
          "output_type": "stream",
          "name": "stdout",
          "text": [
            "dict_keys(['the', 'and', 'I', 'a', 'to', 'was', 'of', 'is', 'it', 'for', 'in', 'The', 'that', 'with', 'my'])\n"
          ]
        }
      ]
    },
    {
      "cell_type": "code",
      "source": [
        "x=list(top_dict.keys())\n",
        "y=list(top_dict.values())\n",
        "sns.barplot(x=x,y=y)\n",
        "plt.show()"
      ],
      "metadata": {
        "colab": {
          "base_uri": "https://localhost:8080/",
          "height": 265
        },
        "id": "02-NGJVI9_ku",
        "outputId": "cf2fe685-7216-4797-eded-7628e28ee1d8"
      },
      "id": "02-NGJVI9_ku",
      "execution_count": null,
      "outputs": [
        {
          "output_type": "display_data",
          "data": {
            "text/plain": [
              "<Figure size 432x288 with 1 Axes>"
            ],
            "image/png": "[encoded data removed]"
          },
          "metadata": {
            "needs_background": "light"
          }
        }
      ]
    },
    {
      "cell_type": "code",
      "source": [
        "print('the average number of words in review is :',np.mean(text_len))\n",
        "print('the average number of characters in review is :',np.mean(word_len))"
      ],
      "metadata": {
        "colab": {
          "base_uri": "https://localhost:8080/"
        },
        "id": "iFFztduP9_nB",
        "outputId": "44205cca-6f20-4ae9-9b36-fc6f0ec33df8"
      },
      "id": "iFFztduP9_nB",
      "execution_count": null,
      "outputs": [
        {
          "output_type": "stream",
          "name": "stdout",
          "text": [
            "the average number of words in review is : 106.55568958245466\n",
            "the average number of characters in review is : 460.61589202867987\n"
          ]
        }
      ]
    },
    {
      "cell_type": "markdown",
      "source": [
        "Finally, lets look at the repartition of useful reviews"
      ],
      "metadata": {
        "id": "xf76WvFtDcMT"
      },
      "id": "xf76WvFtDcMT"
    },
    {
      "cell_type": "code",
      "source": [
        "useful = reviews.groupby('useful').count()['stars'].to_dict()\n",
        "sns.barplot(x=list(useful.keys()),y=list(useful.values()))\n",
        "plt.xlabel('usefull')\n",
        "plt.show()"
      ],
      "metadata": {
        "colab": {
          "base_uri": "https://localhost:8080/",
          "height": 279
        },
        "id": "xtQs4Eop9_qp",
        "outputId": "ada3c03c-7fd7-4c92-b745-8c811e659cf3"
      },
      "id": "xtQs4Eop9_qp",
      "execution_count": null,
      "outputs": [
        {
          "output_type": "display_data",
          "data": {
            "text/plain": [
              "<Figure size 432x288 with 1 Axes>"
            ],
            "image/png": "[encoded data removed]"
          },
          "metadata": {
            "needs_background": "light"
          }
        }
      ]
    },
    {
      "cell_type": "markdown",
      "source": [
        "# Dataset preparation"
      ],
      "metadata": {
        "id": "St8KlX7YDqna"
      },
      "id": "St8KlX7YDqna"
    },
    {
      "cell_type": "code",
      "execution_count": null,
      "metadata": {
        "id": "MJdIu8RHeceX"
      },
      "outputs": [],
      "source": [
        "n = len(reviews)\n",
        "train_set, val_set, test_set = np.split(reviews.sample(frac=1), [int(0.76*n),int(0.8*n)])\n",
        "del reviews"
      ],
      "id": "MJdIu8RHeceX"
    },
    {
      "cell_type": "code",
      "source": [
        "from torch.utils.data import Dataset\n",
        "class yelp_Dataset(Dataset):\n",
        "\n",
        "    def __init__(self, data, label):\n",
        "        self.data = data\n",
        "        self.label = label\n",
        "\n",
        "    def __len__(self):\n",
        "        return len(self.data)\n",
        "    \n",
        "    def __getitem__(self, idx):\n",
        "        item = {\n",
        "            \"text\": np.array(self.data[idx]['text']),\n",
        "            \"label\": np.array(self.data[idx][self.label])\n",
        "        }\n",
        "        return item"
      ],
      "metadata": {
        "id": "zr4hnTIz1bnf"
      },
      "id": "zr4hnTIz1bnf",
      "execution_count": null,
      "outputs": []
    },
    {
      "cell_type": "code",
      "execution_count": null,
      "metadata": {
        "id": "d0c28e2b"
      },
      "outputs": [],
      "source": [
        "fasttext = FastText(language='en')\n",
        "#Bert = BertModel.from_pretrained(\"bert-base-uncased\").to(device)"
      ],
      "id": "d0c28e2b"
    },
    {
      "cell_type": "markdown",
      "source": [
        "for the base model and fasttext"
      ],
      "metadata": {
        "id": "q7Q5RcP2NBE8"
      },
      "id": "q7Q5RcP2NBE8"
    },
    {
      "cell_type": "code",
      "execution_count": null,
      "metadata": {
        "id": "d1461efa"
      },
      "outputs": [],
      "source": [
        "pretrained_vocab = vocab(fasttext.stoi)\n",
        "unk_token = \"<unk>\"\n",
        "unk_index = 0\n",
        "pad_token = '<pad>'\n",
        "pad_index = 1\n",
        "pretrained_vocab.insert_token(\"<unk>\",unk_index)\n",
        "pretrained_vocab.insert_token(\"<pad>\", pad_index)\n",
        "pretrained_vocab.set_default_index(unk_index)"
      ],
      "id": "d1461efa"
    },
    {
      "cell_type": "code",
      "execution_count": null,
      "metadata": {
        "id": "0eOEFXYcfm_P",
        "colab": {
          "base_uri": "https://localhost:8080/",
          "height": 113,
          "referenced_widgets": [
            "1eb29c9af4d949a79890ea45a5004b96",
            "5c424c773c7440218e566a4b8e0a4f3b",
            "ed4c4e4dc5f6463294a1c7db978a89ac",
            "096e255d5b894d0c92fcdf3bb2c1f84c",
            "59719d29ff104b89b0ed6ef42a94e209",
            "f77eb862b1934f4a95e12b77aa46741e",
            "24dcad05ddab4ddfbc19114317332175",
            "d260f5d2c0f94754897d0e206cb1479d",
            "ca46e935c1fe4eb4b246b22ed11a56cd",
            "5d6c9eefefcc488abfe4ee898b822a57",
            "b0584ebeac344825afde7faf4c512150",
            "0a1b728b7fee4853aa7d2a5edf17bd1c",
            "77bb42ed816542abb53eaade9a6be937",
            "9bebc810f87d4cfeb3611696158e185b",
            "9d590d0e1f074c50b16bc9e289f44e7d",
            "94be14615c7445b4bb292cd76495866f",
            "e0d9f39de2f74a32ad8e3cfe1d3eac54",
            "a66dd8b3a65a4f229787f3d94e1664ba",
            "8fc817745e914f1d883b3c47b1c542ab",
            "b16b7fcb359943d7bfa9b35bb916f221",
            "ad02928eb6fc48d3973d729e2047bc99",
            "2f797b307c1b4a70824838e36c7bce9c",
            "6e2a5bffe6214dc09fcd39cfd1a50d73",
            "412156051ecf48c79c6bf7e22468c9ee",
            "07e0890e720247e8963d6f100c571131",
            "a768918994ad48cdad190f0941c9b891",
            "a744b8fd9f1a4316bee2a4e2e0902764",
            "decec5ffa2884ce7b387be9d7a0fb6a0",
            "636ed77ef202458e82c2d3b10e3ed27a",
            "43e2d9921fdc49c0aa94b8ac642a0eaf",
            "d32d2db64e854ea89b9677fef3f4b459",
            "555b709cf5a44ad7994df20a4a37fef2",
            "bb058d290cfc44a39259bfb664c793da"
          ]
        },
        "outputId": "67275e01-9e46-42ed-d484-86e1d7a3878c"
      },
      "outputs": [
        {
          "output_type": "display_data",
          "data": {
            "text/plain": [
              "  0%|          | 0/91 [00:00<?, ?ba/s]"
            ],
            "application/vnd.jupyter.widget-view+json": {
              "version_major": 2,
              "version_minor": 0,
              "model_id": "1eb29c9af4d949a79890ea45a5004b96"
            }
          },
          "metadata": {}
        },
        {
          "output_type": "display_data",
          "data": {
            "text/plain": [
              "  0%|          | 0/5 [00:00<?, ?ba/s]"
            ],
            "application/vnd.jupyter.widget-view+json": {
              "version_major": 2,
              "version_minor": 0,
              "model_id": "0a1b728b7fee4853aa7d2a5edf17bd1c"
            }
          },
          "metadata": {}
        },
        {
          "output_type": "display_data",
          "data": {
            "text/plain": [
              "  0%|          | 0/24 [00:00<?, ?ba/s]"
            ],
            "application/vnd.jupyter.widget-view+json": {
              "version_major": 2,
              "version_minor": 0,
              "model_id": "6e2a5bffe6214dc09fcd39cfd1a50d73"
            }
          },
          "metadata": {}
        }
      ],
      "source": [
        "from datasets import Dataset\n",
        "\n",
        "tok = TweetTokenizer()\n",
        "\n",
        "def tokenize_pad_numericalize(entry, vocab_stoi, max_length=20):\n",
        "    text = [ vocab_stoi[token] if token in vocab_stoi else vocab_stoi['<unk>'] for token in tok.tokenize(entry.lower())]\n",
        "    padded_text = None\n",
        "    if len(text) < max_length:   \n",
        "        padded_text = text + [ vocab_stoi['<pad>'] for i in range(len(text), max_length) ] \n",
        "    elif len(text) > max_length: \n",
        "        padded_text = text[:max_length]\n",
        "    else:                        \n",
        "        padded_text = text\n",
        "    return padded_text\n",
        "\n",
        "def tokenize_all(entries, vocab_stoi):\n",
        "    res = {}\n",
        "    res['text'] = [tokenize_pad_numericalize(entry, vocab_stoi, max_length=50) for entry in entries['text']]\n",
        "    res['stars'] = entries['stars'] \n",
        "    res['useful'] = entries['useful']\n",
        "    res['categories'] = entries['categories'] \n",
        "    return res\n",
        "\n",
        "\n",
        "train_dataset_fasttext = Dataset.from_pandas(train_set)\n",
        "train_dataset_fasttext = train_dataset_fasttext.map(lambda e: tokenize_all(e, pretrained_vocab.get_stoi()), batched = True )\n",
        "\n",
        "val_dataset_fasttext = Dataset.from_pandas(val_set)\n",
        "val_dataset_fasttext = val_dataset_fasttext.map(lambda e: tokenize_all(e, pretrained_vocab.get_stoi()), batched = True )\n",
        "\n",
        "test_dataset_fasttext = Dataset.from_pandas(test_set)\n",
        "test_dataset_fasttext = test_dataset_fasttext.map(lambda e: tokenize_all(e, pretrained_vocab.get_stoi()), batched = True )"
      ],
      "id": "0eOEFXYcfm_P"
    },
    {
      "cell_type": "markdown",
      "source": [
        "for bert model"
      ],
      "metadata": {
        "id": "yZ1AP9sGNGpN"
      },
      "id": "yZ1AP9sGNGpN"
    },
    {
      "cell_type": "code",
      "source": [
        "\"\"\"\n",
        "from datasets import Dataset\n",
        "\n",
        "tokenizer = AutoTokenizer.from_pretrained(\"bert-base-cased\", use_fast=True)\n",
        "\n",
        "def tokenize_function(entries):\n",
        "    res = {}\n",
        "    res['text'] = tokenizer(entries[\"text\"], padding=\"max_length\", truncation=True)['input_ids']\n",
        "    res['stars'] = entries['stars'] \n",
        "    res['useful'] = entries['useful']\n",
        "    res['categories'] = entries['categories']\n",
        "    return(res)\n",
        "\n",
        "train_dataset_bert = Dataset.from_pandas(train_set)\n",
        "train_dataset_bert = train_dataset_bert.map(tokenize_function, batched = True )\n",
        "\n",
        "val_dataset_bert = Dataset.from_pandas(val_set)\n",
        "val_dataset_bert = val_dataset_bert.map(tokenize_function, batched=True)\n",
        "\n",
        "test_dataset_bert = Dataset.from_pandas(test_set)\n",
        "test_dataset_bert = test_dataset_bert.map(tokenize_function, batched=True)\n",
        "\"\"\""
      ],
      "metadata": {
        "id": "OoQ0Dg-xMtTu",
        "colab": {
          "base_uri": "https://localhost:8080/",
          "height": 124
        },
        "outputId": "8dc333b2-76d8-45ec-f695-6ed0fc62ccba"
      },
      "id": "OoQ0Dg-xMtTu",
      "execution_count": null,
      "outputs": [
        {
          "output_type": "execute_result",
          "data": {
            "text/plain": [
              "'\\nfrom datasets import Dataset\\n\\ntokenizer = AutoTokenizer.from_pretrained(\"bert-base-cased\", use_fast=True)\\n\\ndef tokenize_function(entries):\\n    res = {}\\n    res[\\'text\\'] = tokenizer(entries[\"text\"], padding=\"max_length\", truncation=True)[\\'input_ids\\']\\n    res[\\'stars\\'] = entries[\\'stars\\'] \\n    res[\\'useful\\'] = entries[\\'useful\\']\\n    res[\\'categories\\'] = entries[\\'categories\\']\\n    return(res)\\n\\ntrain_dataset_bert = Dataset.from_pandas(train_set)\\ntrain_dataset_bert = train_dataset_bert.map(tokenize_function, batched = True )\\n\\nval_dataset_bert = Dataset.from_pandas(val_set)\\nval_dataset_bert = val_dataset_bert.map(tokenize_function, batched=True)\\n\\ntest_dataset_bert = Dataset.from_pandas(test_set)\\ntest_dataset_bert = test_dataset_bert.map(tokenize_function, batched=True)\\n'"
            ],
            "application/vnd.google.colaboratory.intrinsic+json": {
              "type": "string"
            }
          },
          "metadata": {},
          "execution_count": 10
        }
      ]
    },
    {
      "cell_type": "markdown",
      "source": [
        "# training and inference "
      ],
      "metadata": {
        "id": "ILnOsz8DG_-_"
      },
      "id": "ILnOsz8DG_-_"
    },
    {
      "cell_type": "code",
      "execution_count": null,
      "metadata": {
        "id": "6fc2c151"
      },
      "outputs": [],
      "source": [
        "def train(model, loader, optimizer, ep, args, threshold = 0.5):\n",
        "    model.train()\n",
        "    loss_it, acc_it = list(), list()\n",
        "    \n",
        "    for it, batch in tqdm(enumerate(loader), desc=\"Epoch %s:\" % (ep), total=loader.__len__()):\n",
        "        \n",
        "        optimizer.zero_grad()\n",
        "        if model.multi :\n",
        "          batch = {'text': torch.tensor(batch['text']).to(device), 'label': torch.tensor(batch['label']).type(torch.FloatTensor).to(device)}\n",
        "          logits = model(batch['text'])\n",
        "          loss_function = nn.BCELoss()\n",
        "        else : \n",
        "          batch = {'text': torch.tensor(batch['text']).to(device), 'label': torch.tensor(batch['label']).type(torch.LongTensor).to(device)}\n",
        "          logits = model(batch['text'])\n",
        "          b_counter = Counter(batch['label'].detach().cpu().tolist())\n",
        "          b_weights = torch.tensor( [ sum(batch['label'].detach().cpu().tolist()) / b_counter[label] if b_counter[label] > 0 else 0 for label in list(range(args['num_class'])) ] ) + 0.00001\n",
        "          b_weights = b_weights.to(device) \n",
        "          loss_function = nn.CrossEntropyLoss(weight=b_weights)\n",
        "\n",
        "        loss = loss_function(logits, batch['label'])\n",
        "\n",
        "        loss.backward()\n",
        "        optimizer.step()\n",
        "        loss_it.append(loss.item())\n",
        "\n",
        "        if model.multi :\n",
        "            pred = np.array(logits.cpu() > threshold, dtype=float)\n",
        "            acc = (pred == np.array(batch['label'].detach().cpu())).sum()/ batch['label'].flatten().size(0)\n",
        "            acc_it.append(acc)\n",
        "        else : \n",
        "            _, tag_seq  = torch.max(logits, 1)\n",
        "\n",
        "            correct = (tag_seq.flatten() == batch['label'].flatten()).float().sum()\n",
        "            acc = correct / batch['label'].flatten().size(0)\n",
        "            acc_it.append(acc.item())\n",
        "\n",
        "    loss_it_avg = sum(loss_it)/len(loss_it)\n",
        "    acc_it_avg = sum(acc_it)/len(acc_it)\n",
        "  \n",
        "    print(\"Epoch %s/%s : %s : (%s %s) (%s %s)\" % (colored(str(ep), 'blue'),args['max_eps'] , colored('Training', 'blue'), colored('loss', 'cyan'), sum(loss_it)/len(loss_it), colored('acc', 'cyan'), sum(acc_it) / len(acc_it)))"
      ],
      "id": "6fc2c151"
    },
    {
      "cell_type": "code",
      "execution_count": null,
      "metadata": {
        "id": "d6edb5fb"
      },
      "outputs": [],
      "source": [
        "def inference(target, loader, model, threshold = 0.5):\n",
        "\n",
        "    model.eval()\n",
        "\n",
        "    loss_it, acc_it, f1_it = list(), list(), list()\n",
        "    preds, trues = list(), list()\n",
        "\n",
        "    for it, batch in tqdm(enumerate(loader), desc=\"%s:\" % (target), total=loader.__len__()):\n",
        "    \n",
        "        with torch.no_grad():            \n",
        "            if model.multi:\n",
        "                batch = {'text': batch['text'].to(device), 'label': batch['label'].type(torch.FloatTensor).to(device)}\n",
        "                loss_function = nn.BCELoss()\n",
        "            else : \n",
        "                batch = {'text': batch['text'].to(device), 'label': batch['label'].type(torch.LongTensor).to(device)}\n",
        "                loss_function = nn.CrossEntropyLoss()\n",
        "\n",
        "            logits = model(batch['text'])\n",
        "            loss = loss_function(logits, batch['label'])\n",
        "\n",
        "\n",
        "            loss_it.append(loss.item())\n",
        "\n",
        "            if model.multi :\n",
        "                tag_seq = np.array(logits.cpu() > threshold, dtype=float)\n",
        "                acc = (tag_seq == np.array(batch['label'].detach().cpu())).sum()/ batch['label'].flatten().size(0)\n",
        "                acc_it.append(acc)\n",
        "                preds.append(tag_seq)\n",
        "                trues.append(np.array(batch['label'].cpu().detach()))\n",
        "            else : \n",
        "                _, tag_seq  = torch.max(logits, 1)\n",
        "\n",
        "                correct = (tag_seq.flatten() == batch['label'].flatten()).float().sum()\n",
        "                acc = correct / batch['label'].flatten().size(0)\n",
        "                acc_it.append(acc.item())\n",
        "\n",
        "                preds.extend(tag_seq.cpu().detach().tolist())\n",
        "                trues.extend(batch['label'].cpu().detach().tolist())\n",
        "\n",
        "    loss_it_avg = sum(loss_it)/len(loss_it)\n",
        "    acc_it_avg = sum(acc_it)/len(acc_it)\n",
        "  \n",
        "    print(\"%s : (%s %s) (%s %s)\" % ( colored(target, 'blue'), colored('loss', 'cyan'), sum(loss_it)/len(loss_it), colored('acc', 'cyan'), sum(acc_it) / len(acc_it)))\n",
        "\n",
        "    return trues, preds, loss_it_avg, acc_it_avg, loss_it, acc_it"
      ],
      "id": "d6edb5fb"
    },
    {
      "cell_type": "code",
      "execution_count": null,
      "metadata": {
        "id": "0b1bebc5"
      },
      "outputs": [],
      "source": [
        "def run_epochs(model, train_loader, val_loader, args):\n",
        "    args['device'] = device\n",
        "    optimizer = optim.Adam(model.parameters(), lr = args['lr'])\n",
        "    val_ep_losses = list()\n",
        "    for ep in range(args['max_eps']):\n",
        "        train(model, train_loader, optimizer, ep, args)\n",
        "        trues, preds, val_loss_it_avg, val_acc_it_avg, val_loss_it, val_acc_it = inference(\"validation\", val_loader, model)\n",
        "        val_ep_losses.append(val_loss_it_avg)\n",
        "    return val_ep_losses"
      ],
      "id": "0b1bebc5"
    },
    {
      "cell_type": "markdown",
      "source": [
        "# MODEL"
      ],
      "metadata": {
        "id": "CeDzJPnbHQ3e"
      },
      "id": "CeDzJPnbHQ3e"
    },
    {
      "cell_type": "code",
      "execution_count": null,
      "metadata": {
        "id": "72244f06"
      },
      "outputs": [],
      "source": [
        "vocab_size = pretrained_vocab.__len__()\n",
        "\n",
        "class BaseModel(torch.nn.Module):\n",
        "    def __init__(self, embed_dim, hidden_dim, output_dim, multi = False):\n",
        "        super(BaseModel, self).__init__()\n",
        "        self.multi = multi\n",
        "        \n",
        "        self.embedding = nn.Embedding(vocab_size, embed_dim, sparse=False)\n",
        "        \n",
        "        self.classifier = nn.Sequential(\n",
        "            nn.Linear(embed_dim, hidden_dim, bias=True),\n",
        "            nn.ReLU(),\n",
        "            nn.Linear(hidden_dim, hidden_dim, bias=True),\n",
        "            nn.ReLU(),\n",
        "            nn.Linear(hidden_dim, output_dim, bias=True)\n",
        "        )\n",
        "        if self.multi:\n",
        "            self.activation = nn.Sigmoid()\n",
        "        else : \n",
        "            self.activation = nn.Softmax(dim=1)\n",
        "\n",
        "    def forward(self, x):\n",
        "        x  = self.embedding(x)\n",
        "        x  = x.mean(1)\n",
        "        logits = self.classifier(x)\n",
        "        return self.activation(logits)"
      ],
      "id": "72244f06"
    },
    {
      "cell_type": "code",
      "source": [
        "class FastTextModel(torch.nn.Module):\n",
        "    def __init__(self, embeddim, hidden_dim, output_dim, multi = False):\n",
        "        super(FastTextModel, self).__init__()\n",
        "        self.multi = multi\n",
        "\n",
        "        self.embedding = torch.nn.Embedding.from_pretrained(embeddings = fasttext.vectors, freeze=True)\n",
        "\n",
        "        \n",
        "        self.classifier = nn.Sequential(\n",
        "            nn.Linear(embeddim, hidden_dim, bias=True),\n",
        "            nn.ReLU(),\n",
        "            nn.Linear(hidden_dim, hidden_dim, bias=True),\n",
        "            nn.ReLU(),\n",
        "            nn.Linear(hidden_dim, output_dim, bias=True)\n",
        "        )\n",
        "        if self.multi:\n",
        "            self.activation = nn.Sigmoid()\n",
        "        else : \n",
        "            self.activation = nn.Softmax(dim=1)\n",
        "\n",
        "    def forward(self, x):\n",
        "        x  = self.embedding(x)\n",
        "        x  = x.mean(1)\n",
        "        logits = self.classifier(x)\n",
        "        return self.activation(logits)"
      ],
      "metadata": {
        "id": "BHxb_hvVcv2-"
      },
      "id": "BHxb_hvVcv2-",
      "execution_count": null,
      "outputs": []
    },
    {
      "cell_type": "code",
      "source": [
        "\"\"\"\n",
        "class ClassifierBERT(torch.nn.Module):\n",
        "    def __init__(self, embeddim, hidden_dim, output_dim):\n",
        "        super(ClassifierBERT, self).__init__()\n",
        "        \n",
        "        self.classifier = nn.Sequential(\n",
        "            nn.Linear(embeddim, hidden_dim, bias=True),\n",
        "            nn.ReLU(),\n",
        "            nn.Linear(hidden_dim, hidden_dim, bias=True),\n",
        "            nn.ReLU(),\n",
        "            nn.Linear(hidden_dim, output_dim, bias=True),\n",
        "            nn.Softmax(dim=1)\n",
        "        )\n",
        "\n",
        "    def forward(self, x):\n",
        "        logits = self.classifier(x[1])\n",
        "        return logits\n",
        "\"\"\""
      ],
      "metadata": {
        "colab": {
          "base_uri": "https://localhost:8080/",
          "height": 89
        },
        "id": "_awUgSsPsMYv",
        "outputId": "55abec55-cf3f-468a-ee39-b7e6eda5a26c"
      },
      "id": "_awUgSsPsMYv",
      "execution_count": null,
      "outputs": [
        {
          "output_type": "execute_result",
          "data": {
            "text/plain": [
              "'\\nclass ClassifierBERT(torch.nn.Module):\\n    def __init__(self, embeddim, hidden_dim, output_dim):\\n        super(ClassifierBERT, self).__init__()\\n        \\n        self.classifier = nn.Sequential(\\n            nn.Linear(embeddim, hidden_dim, bias=True),\\n            nn.ReLU(),\\n            nn.Linear(hidden_dim, hidden_dim, bias=True),\\n            nn.ReLU(),\\n            nn.Linear(hidden_dim, output_dim, bias=True),\\n            nn.Softmax(dim=1)\\n        )\\n\\n    def forward(self, x):\\n        logits = self.classifier(x[1])\\n        return logits\\n'"
            ],
            "application/vnd.google.colaboratory.intrinsic+json": {
              "type": "string"
            }
          },
          "metadata": {},
          "execution_count": 57
        }
      ]
    },
    {
      "cell_type": "markdown",
      "source": [
        "# TASK 1 : number of stars prediction"
      ],
      "metadata": {
        "id": "ZPckJ5w8KVBt"
      },
      "id": "ZPckJ5w8KVBt"
    },
    {
      "cell_type": "code",
      "source": [
        "train_loader_stars = DataLoader(yelp_Dataset(train_dataset_fasttext, label = 'stars'), batch_size=args['bsize'], num_workers=2, shuffle=True, drop_last=True)\n",
        "val_loader_stars   = DataLoader(yelp_Dataset(val_dataset_fasttext, label = 'stars'), batch_size=args['bsize'], num_workers=2, shuffle=True, drop_last=True)"
      ],
      "metadata": {
        "id": "r__PhkMCKerI"
      },
      "id": "r__PhkMCKerI",
      "execution_count": null,
      "outputs": []
    },
    {
      "cell_type": "code",
      "execution_count": null,
      "metadata": {
        "colab": {
          "base_uri": "https://localhost:8080/"
        },
        "id": "8ea5fa83",
        "outputId": "57bf791f-d5ba-4d29-f6c8-88f109f45215"
      },
      "outputs": [
        {
          "output_type": "stream",
          "name": "stderr",
          "text": [
            "Epoch 0::   0%|          | 0/1407 [00:00<?, ?it/s]/usr/local/lib/python3.7/dist-packages/ipykernel_launcher.py:13: UserWarning: To copy construct from a tensor, it is recommended to use sourceTensor.clone().detach() or sourceTensor.clone().detach().requires_grad_(True), rather than torch.tensor(sourceTensor).\n",
            "  del sys.path[0]\n",
            "Epoch 0:: 100%|██████████| 1407/1407 [00:37<00:00, 37.13it/s]"
          ]
        },
        {
          "output_type": "stream",
          "name": "stdout",
          "text": [
            "Epoch \u001b[34m0\u001b[0m/5 : \u001b[34mTraining\u001b[0m : (\u001b[36mloss\u001b[0m 1.47602197695219) (\u001b[36macc\u001b[0m 0.44867181947405826)\n"
          ]
        },
        {
          "output_type": "stream",
          "name": "stderr",
          "text": [
            "\n",
            "validation:: 100%|██████████| 74/74 [00:01<00:00, 59.82it/s]"
          ]
        },
        {
          "output_type": "stream",
          "name": "stdout",
          "text": [
            "\u001b[34mvalidation\u001b[0m : (\u001b[36mloss\u001b[0m 1.385703001473401) (\u001b[36macc\u001b[0m 0.49472128378378377)\n"
          ]
        },
        {
          "output_type": "stream",
          "name": "stderr",
          "text": [
            "\n",
            "Epoch 1:: 100%|██████████| 1407/1407 [00:38<00:00, 37.01it/s]"
          ]
        },
        {
          "output_type": "stream",
          "name": "stdout",
          "text": [
            "Epoch \u001b[34m1\u001b[0m/5 : \u001b[34mTraining\u001b[0m : (\u001b[36mloss\u001b[0m 1.3982175130240868) (\u001b[36macc\u001b[0m 0.5352922885572139)\n"
          ]
        },
        {
          "output_type": "stream",
          "name": "stderr",
          "text": [
            "\n",
            "validation:: 100%|██████████| 74/74 [00:01<00:00, 56.66it/s]"
          ]
        },
        {
          "output_type": "stream",
          "name": "stdout",
          "text": [
            "\u001b[34mvalidation\u001b[0m : (\u001b[36mloss\u001b[0m 1.3641816780373857) (\u001b[36macc\u001b[0m 0.5206925675675675)\n"
          ]
        },
        {
          "output_type": "stream",
          "name": "stderr",
          "text": [
            "\n",
            "Epoch 2:: 100%|██████████| 1407/1407 [00:38<00:00, 36.76it/s]"
          ]
        },
        {
          "output_type": "stream",
          "name": "stdout",
          "text": [
            "Epoch \u001b[34m2\u001b[0m/5 : \u001b[34mTraining\u001b[0m : (\u001b[36mloss\u001b[0m 1.367061964569146) (\u001b[36macc\u001b[0m 0.5643656716417911)\n"
          ]
        },
        {
          "output_type": "stream",
          "name": "stderr",
          "text": [
            "\n",
            "validation:: 100%|██████████| 74/74 [00:01<00:00, 57.55it/s]"
          ]
        },
        {
          "output_type": "stream",
          "name": "stdout",
          "text": [
            "\u001b[34mvalidation\u001b[0m : (\u001b[36mloss\u001b[0m 1.3500572459117786) (\u001b[36macc\u001b[0m 0.5386402027027027)\n"
          ]
        },
        {
          "output_type": "stream",
          "name": "stderr",
          "text": [
            "\n",
            "Epoch 3:: 100%|██████████| 1407/1407 [00:37<00:00, 37.11it/s]"
          ]
        },
        {
          "output_type": "stream",
          "name": "stdout",
          "text": [
            "Epoch \u001b[34m3\u001b[0m/5 : \u001b[34mTraining\u001b[0m : (\u001b[36mloss\u001b[0m 1.341314907606053) (\u001b[36macc\u001b[0m 0.5882862473347548)\n"
          ]
        },
        {
          "output_type": "stream",
          "name": "stderr",
          "text": [
            "\n",
            "validation:: 100%|██████████| 74/74 [00:01<00:00, 59.95it/s]"
          ]
        },
        {
          "output_type": "stream",
          "name": "stdout",
          "text": [
            "\u001b[34mvalidation\u001b[0m : (\u001b[36mloss\u001b[0m 1.354942569861541) (\u001b[36macc\u001b[0m 0.5331503378378378)\n"
          ]
        },
        {
          "output_type": "stream",
          "name": "stderr",
          "text": [
            "\n",
            "Epoch 4:: 100%|██████████| 1407/1407 [00:37<00:00, 37.07it/s]"
          ]
        },
        {
          "output_type": "stream",
          "name": "stdout",
          "text": [
            "Epoch \u001b[34m4\u001b[0m/5 : \u001b[34mTraining\u001b[0m : (\u001b[36mloss\u001b[0m 1.3204497236178627) (\u001b[36macc\u001b[0m 0.6077203269367448)\n"
          ]
        },
        {
          "output_type": "stream",
          "name": "stderr",
          "text": [
            "\n",
            "validation:: 100%|██████████| 74/74 [00:01<00:00, 59.04it/s]\n"
          ]
        },
        {
          "output_type": "stream",
          "name": "stdout",
          "text": [
            "\u001b[34mvalidation\u001b[0m : (\u001b[36mloss\u001b[0m 1.357475127722766) (\u001b[36macc\u001b[0m 0.5333614864864865)\n"
          ]
        }
      ],
      "source": [
        "embeddim = 50\n",
        "hiddendim = 50\n",
        "outputdim = 5 \n",
        "args.update({'max_eps': 5, 'lr': 0.001, 'device': 'cpu', 'cuda': 0, 'num_class': outputdim})\n",
        "\n",
        "model_base_stars = BaseModel(embeddim, hiddendim, outputdim).to(device)\n",
        "loss_list_val = run_epochs(model_base_stars, train_loader_stars, val_loader_stars, args)"
      ],
      "id": "8ea5fa83"
    },
    {
      "cell_type": "code",
      "source": [
        "embeddim = 300\n",
        "hiddendim = 50\n",
        "\n",
        "model_fast_stars = FastTextModel(embeddim, hiddendim, outputdim).to(device)\n",
        "loss_list_val_fast_stars = run_epochs(model_fast_stars, train_loader_stars, val_loader_stars, args)"
      ],
      "metadata": {
        "colab": {
          "base_uri": "https://localhost:8080/"
        },
        "id": "GFARL4TpdJOT",
        "outputId": "a0878958-d0d9-4a67-ef0f-2b3503ee627a"
      },
      "id": "GFARL4TpdJOT",
      "execution_count": null,
      "outputs": [
        {
          "output_type": "stream",
          "name": "stderr",
          "text": [
            "Epoch 0::   0%|          | 0/1407 [00:00<?, ?it/s]/usr/local/lib/python3.7/dist-packages/ipykernel_launcher.py:13: UserWarning: To copy construct from a tensor, it is recommended to use sourceTensor.clone().detach() or sourceTensor.clone().detach().requires_grad_(True), rather than torch.tensor(sourceTensor).\n",
            "  del sys.path[0]\n",
            "Epoch 0:: 100%|██████████| 1407/1407 [00:21<00:00, 65.88it/s]"
          ]
        },
        {
          "output_type": "stream",
          "name": "stdout",
          "text": [
            "Epoch \u001b[34m0\u001b[0m/5 : \u001b[34mTraining\u001b[0m : (\u001b[36mloss\u001b[0m 1.537757750936832) (\u001b[36macc\u001b[0m 0.3981987384506041)\n"
          ]
        },
        {
          "output_type": "stream",
          "name": "stderr",
          "text": [
            "\n",
            "validation:: 100%|██████████| 74/74 [00:01<00:00, 61.72it/s]"
          ]
        },
        {
          "output_type": "stream",
          "name": "stdout",
          "text": [
            "\u001b[34mvalidation\u001b[0m : (\u001b[36mloss\u001b[0m 1.4489648197148297) (\u001b[36macc\u001b[0m 0.44130067567567566)\n"
          ]
        },
        {
          "output_type": "stream",
          "name": "stderr",
          "text": [
            "\n",
            "Epoch 1:: 100%|██████████| 1407/1407 [00:20<00:00, 68.25it/s]"
          ]
        },
        {
          "output_type": "stream",
          "name": "stdout",
          "text": [
            "Epoch \u001b[34m1\u001b[0m/5 : \u001b[34mTraining\u001b[0m : (\u001b[36mloss\u001b[0m 1.4936997749827479) (\u001b[36macc\u001b[0m 0.4285270078180526)\n"
          ]
        },
        {
          "output_type": "stream",
          "name": "stderr",
          "text": [
            "\n",
            "validation:: 100%|██████████| 74/74 [00:01<00:00, 58.80it/s]"
          ]
        },
        {
          "output_type": "stream",
          "name": "stdout",
          "text": [
            "\u001b[34mvalidation\u001b[0m : (\u001b[36mloss\u001b[0m 1.4020243560945667) (\u001b[36macc\u001b[0m 0.4904983108108108)\n"
          ]
        },
        {
          "output_type": "stream",
          "name": "stderr",
          "text": [
            "\n",
            "Epoch 2:: 100%|██████████| 1407/1407 [00:20<00:00, 68.00it/s]"
          ]
        },
        {
          "output_type": "stream",
          "name": "stdout",
          "text": [
            "Epoch \u001b[34m2\u001b[0m/5 : \u001b[34mTraining\u001b[0m : (\u001b[36mloss\u001b[0m 1.4852216813101697) (\u001b[36macc\u001b[0m 0.4362895344705046)\n"
          ]
        },
        {
          "output_type": "stream",
          "name": "stderr",
          "text": [
            "\n",
            "validation:: 100%|██████████| 74/74 [00:01<00:00, 60.24it/s]"
          ]
        },
        {
          "output_type": "stream",
          "name": "stdout",
          "text": [
            "\u001b[34mvalidation\u001b[0m : (\u001b[36mloss\u001b[0m 1.4138790014627818) (\u001b[36macc\u001b[0m 0.4719172297297297)\n"
          ]
        },
        {
          "output_type": "stream",
          "name": "stderr",
          "text": [
            "\n",
            "Epoch 3:: 100%|██████████| 1407/1407 [00:20<00:00, 67.32it/s]"
          ]
        },
        {
          "output_type": "stream",
          "name": "stdout",
          "text": [
            "Epoch \u001b[34m3\u001b[0m/5 : \u001b[34mTraining\u001b[0m : (\u001b[36mloss\u001b[0m 1.4820869218057662) (\u001b[36macc\u001b[0m 0.4400319829424307)\n"
          ]
        },
        {
          "output_type": "stream",
          "name": "stderr",
          "text": [
            "\n",
            "validation:: 100%|██████████| 74/74 [00:01<00:00, 58.24it/s]"
          ]
        },
        {
          "output_type": "stream",
          "name": "stdout",
          "text": [
            "\u001b[34mvalidation\u001b[0m : (\u001b[36mloss\u001b[0m 1.4479659086949117) (\u001b[36macc\u001b[0m 0.4370777027027027)\n"
          ]
        },
        {
          "output_type": "stream",
          "name": "stderr",
          "text": [
            "\n",
            "Epoch 4:: 100%|██████████| 1407/1407 [00:22<00:00, 63.51it/s]"
          ]
        },
        {
          "output_type": "stream",
          "name": "stdout",
          "text": [
            "Epoch \u001b[34m4\u001b[0m/5 : \u001b[34mTraining\u001b[0m : (\u001b[36mloss\u001b[0m 1.4796215524551457) (\u001b[36macc\u001b[0m 0.4401874555792466)\n"
          ]
        },
        {
          "output_type": "stream",
          "name": "stderr",
          "text": [
            "\n",
            "validation:: 100%|██████████| 74/74 [00:01<00:00, 59.42it/s]"
          ]
        },
        {
          "output_type": "stream",
          "name": "stdout",
          "text": [
            "\u001b[34mvalidation\u001b[0m : (\u001b[36mloss\u001b[0m 1.442294264161909) (\u001b[36macc\u001b[0m 0.43813344594594594)\n"
          ]
        },
        {
          "output_type": "stream",
          "name": "stderr",
          "text": [
            "\n"
          ]
        }
      ]
    },
    {
      "cell_type": "markdown",
      "source": [
        "# Task 2 : Useful"
      ],
      "metadata": {
        "id": "Lma2kejkf-fB"
      },
      "id": "Lma2kejkf-fB"
    },
    {
      "cell_type": "code",
      "source": [
        "train_loader_useful = DataLoader(yelp_Dataset(train_dataset_fasttext, label = 'useful'), batch_size=args['bsize'], num_workers=2, shuffle=True, drop_last=True)\n",
        "val_loader_useful   = DataLoader(yelp_Dataset(val_dataset_fasttext, label = 'useful'), batch_size=args['bsize'], num_workers=2, shuffle=True, drop_last=True)"
      ],
      "metadata": {
        "id": "dEQvltxNs8ib"
      },
      "id": "dEQvltxNs8ib",
      "execution_count": null,
      "outputs": []
    },
    {
      "cell_type": "code",
      "source": [
        "embeddim = 50\n",
        "hiddendim = 50\n",
        "outputdim = 2 \n",
        "args.update({'max_eps': 5, 'lr': 0.001, 'device': 'cpu', 'cuda': 0, 'num_class': outputdim})\n",
        "\n",
        "model_base_useful = BaseModel(embeddim, hiddendim, outputdim).to(device)\n",
        "loss_list_val = run_epochs(model_base_useful, train_loader_useful, val_loader_useful, args)"
      ],
      "metadata": {
        "id": "zZodtq-8y83y",
        "colab": {
          "base_uri": "https://localhost:8080/"
        },
        "outputId": "a7485678-8d08-462a-b77a-a1f7f73c6e8c"
      },
      "id": "zZodtq-8y83y",
      "execution_count": null,
      "outputs": [
        {
          "metadata": {
            "tags": null
          },
          "name": "stderr",
          "output_type": "stream",
          "text": [
            "Epoch 0::   0%|          | 0/1407 [00:00<?, ?it/s]/usr/local/lib/python3.7/dist-packages/ipykernel_launcher.py:13: UserWarning: To copy construct from a tensor, it is recommended to use sourceTensor.clone().detach() or sourceTensor.clone().detach().requires_grad_(True), rather than torch.tensor(sourceTensor).\n",
            "  del sys.path[0]\n",
            "Epoch 0:: 100%|██████████| 1407/1407 [00:37<00:00, 37.30it/s]"
          ]
        },
        {
          "metadata": {
            "tags": null
          },
          "name": "stdout",
          "output_type": "stream",
          "text": [
            "Epoch \u001b[34m0\u001b[0m/5 : \u001b[34mTraining\u001b[0m : (\u001b[36mloss\u001b[0m 0.6497825156862886) (\u001b[36macc\u001b[0m 0.5478300461975835)\n"
          ]
        },
        {
          "metadata": {
            "tags": null
          },
          "name": "stderr",
          "output_type": "stream",
          "text": [
            "\n",
            "validation:: 100%|██████████| 74/74 [00:01<00:00, 60.01it/s]"
          ]
        },
        {
          "metadata": {
            "tags": null
          },
          "name": "stdout",
          "output_type": "stream",
          "text": [
            "\u001b[34mvalidation\u001b[0m : (\u001b[36mloss\u001b[0m 0.6956718515705418) (\u001b[36macc\u001b[0m 0.49767736486486486)\n"
          ]
        },
        {
          "metadata": {
            "tags": null
          },
          "name": "stderr",
          "output_type": "stream",
          "text": [
            "\n",
            "Epoch 1:: 100%|██████████| 1407/1407 [00:37<00:00, 37.26it/s]"
          ]
        },
        {
          "metadata": {
            "tags": null
          },
          "name": "stdout",
          "output_type": "stream",
          "text": [
            "Epoch \u001b[34m1\u001b[0m/5 : \u001b[34mTraining\u001b[0m : (\u001b[36mloss\u001b[0m 0.6314130244563468) (\u001b[36macc\u001b[0m 0.6103300461975835)\n"
          ]
        },
        {
          "metadata": {
            "tags": null
          },
          "name": "stderr",
          "output_type": "stream",
          "text": [
            "\n",
            "validation:: 100%|██████████| 74/74 [00:01<00:00, 60.50it/s]"
          ]
        },
        {
          "metadata": {
            "tags": null
          },
          "name": "stdout",
          "output_type": "stream",
          "text": [
            "\u001b[34mvalidation\u001b[0m : (\u001b[36mloss\u001b[0m 0.6542858634446118) (\u001b[36macc\u001b[0m 0.6024070945945946)\n"
          ]
        },
        {
          "metadata": {
            "tags": null
          },
          "name": "stderr",
          "output_type": "stream",
          "text": [
            "\n",
            "Epoch 2:: 100%|██████████| 1407/1407 [00:37<00:00, 37.31it/s]"
          ]
        },
        {
          "metadata": {
            "tags": null
          },
          "name": "stdout",
          "output_type": "stream",
          "text": [
            "Epoch \u001b[34m2\u001b[0m/5 : \u001b[34mTraining\u001b[0m : (\u001b[36mloss\u001b[0m 0.6122276888896832) (\u001b[36macc\u001b[0m 0.6592484008528785)\n"
          ]
        },
        {
          "metadata": {
            "tags": null
          },
          "name": "stderr",
          "output_type": "stream",
          "text": [
            "\n",
            "validation:: 100%|██████████| 74/74 [00:01<00:00, 58.90it/s]"
          ]
        },
        {
          "metadata": {
            "tags": null
          },
          "name": "stdout",
          "output_type": "stream",
          "text": [
            "\u001b[34mvalidation\u001b[0m : (\u001b[36mloss\u001b[0m 0.6025341757245966) (\u001b[36macc\u001b[0m 0.6807432432432432)\n"
          ]
        },
        {
          "metadata": {
            "tags": null
          },
          "name": "stderr",
          "output_type": "stream",
          "text": [
            "\n",
            "Epoch 3:: 100%|██████████| 1407/1407 [00:37<00:00, 37.26it/s]"
          ]
        },
        {
          "metadata": {
            "tags": null
          },
          "name": "stdout",
          "output_type": "stream",
          "text": [
            "Epoch \u001b[34m3\u001b[0m/5 : \u001b[34mTraining\u001b[0m : (\u001b[36mloss\u001b[0m 0.5886426178080526) (\u001b[36macc\u001b[0m 0.6966506751954513)\n"
          ]
        },
        {
          "metadata": {
            "tags": null
          },
          "name": "stderr",
          "output_type": "stream",
          "text": [
            "\n",
            "validation:: 100%|██████████| 74/74 [00:01<00:00, 61.67it/s]"
          ]
        },
        {
          "metadata": {
            "tags": null
          },
          "name": "stdout",
          "output_type": "stream",
          "text": [
            "\u001b[34mvalidation\u001b[0m : (\u001b[36mloss\u001b[0m 0.620562451916772) (\u001b[36macc\u001b[0m 0.6701858108108109)\n"
          ]
        },
        {
          "output_type": "stream",
          "name": "stderr",
          "text": [
            "\n",
            "Epoch 4:: 100%|██████████| 1407/1407 [00:37<00:00, 37.21it/s]"
          ]
        },
        {
          "output_type": "stream",
          "name": "stdout",
          "text": [
            "Epoch \u001b[34m4\u001b[0m/5 : \u001b[34mTraining\u001b[0m : (\u001b[36mloss\u001b[0m 0.5625321891982249) (\u001b[36macc\u001b[0m 0.7315098614072495)\n"
          ]
        },
        {
          "output_type": "stream",
          "name": "stderr",
          "text": [
            "\n",
            "validation:: 100%|██████████| 74/74 [00:01<00:00, 60.30it/s]\n"
          ]
        },
        {
          "output_type": "stream",
          "name": "stdout",
          "text": [
            "\u001b[34mvalidation\u001b[0m : (\u001b[36mloss\u001b[0m 0.5831689125782734) (\u001b[36macc\u001b[0m 0.7155827702702703)\n"
          ]
        }
      ]
    },
    {
      "cell_type": "code",
      "source": [
        "embeddim = 300\n",
        "hiddendim = 50\n",
        "\n",
        "model_fast_useful = FastTextModel(embeddim, hiddendim, outputdim).to(device)\n",
        "loss_list_val_fast_useful = run_epochs(model_fast_useful, train_loader_useful, val_loader_useful, args)"
      ],
      "metadata": {
        "id": "IvbrOmOgg7cJ",
        "colab": {
          "base_uri": "https://localhost:8080/"
        },
        "outputId": "739396ad-da14-470d-8c60-49acc6594c44"
      },
      "id": "IvbrOmOgg7cJ",
      "execution_count": null,
      "outputs": [
        {
          "output_type": "stream",
          "name": "stderr",
          "text": [
            "Epoch 0::   0%|          | 0/1407 [00:00<?, ?it/s]/usr/local/lib/python3.7/dist-packages/ipykernel_launcher.py:13: UserWarning: To copy construct from a tensor, it is recommended to use sourceTensor.clone().detach() or sourceTensor.clone().detach().requires_grad_(True), rather than torch.tensor(sourceTensor).\n",
            "  del sys.path[0]\n",
            "Epoch 0:: 100%|██████████| 1407/1407 [00:21<00:00, 66.55it/s]"
          ]
        },
        {
          "output_type": "stream",
          "name": "stdout",
          "text": [
            "Epoch \u001b[34m0\u001b[0m/5 : \u001b[34mTraining\u001b[0m : (\u001b[36mloss\u001b[0m 0.6568498569087263) (\u001b[36macc\u001b[0m 0.5004886282871357)\n"
          ]
        },
        {
          "output_type": "stream",
          "name": "stderr",
          "text": [
            "\n",
            "validation:: 100%|██████████| 74/74 [00:01<00:00, 58.52it/s]"
          ]
        },
        {
          "output_type": "stream",
          "name": "stdout",
          "text": [
            "\u001b[34mvalidation\u001b[0m : (\u001b[36mloss\u001b[0m 0.6955046992044192) (\u001b[36macc\u001b[0m 0.4864864864864865)\n"
          ]
        },
        {
          "output_type": "stream",
          "name": "stderr",
          "text": [
            "\n",
            "Epoch 1:: 100%|██████████| 1407/1407 [00:20<00:00, 68.30it/s]"
          ]
        },
        {
          "output_type": "stream",
          "name": "stdout",
          "text": [
            "Epoch \u001b[34m1\u001b[0m/5 : \u001b[34mTraining\u001b[0m : (\u001b[36mloss\u001b[0m 0.6483347980198322) (\u001b[36macc\u001b[0m 0.5534159559346127)\n"
          ]
        },
        {
          "output_type": "stream",
          "name": "stderr",
          "text": [
            "\n",
            "validation:: 100%|██████████| 74/74 [00:01<00:00, 60.59it/s]"
          ]
        },
        {
          "output_type": "stream",
          "name": "stdout",
          "text": [
            "\u001b[34mvalidation\u001b[0m : (\u001b[36mloss\u001b[0m 0.6286079585552216) (\u001b[36macc\u001b[0m 0.6131756756756757)\n"
          ]
        },
        {
          "output_type": "stream",
          "name": "stderr",
          "text": [
            "\n",
            "Epoch 2:: 100%|██████████| 1407/1407 [00:20<00:00, 68.39it/s]"
          ]
        },
        {
          "output_type": "stream",
          "name": "stdout",
          "text": [
            "Epoch \u001b[34m2\u001b[0m/5 : \u001b[34mTraining\u001b[0m : (\u001b[36mloss\u001b[0m 0.6469158542520541) (\u001b[36macc\u001b[0m 0.5636105188343994)\n"
          ]
        },
        {
          "output_type": "stream",
          "name": "stderr",
          "text": [
            "\n",
            "validation:: 100%|██████████| 74/74 [00:01<00:00, 60.17it/s]"
          ]
        },
        {
          "output_type": "stream",
          "name": "stdout",
          "text": [
            "\u001b[34mvalidation\u001b[0m : (\u001b[36mloss\u001b[0m 0.653863045814875) (\u001b[36macc\u001b[0m 0.574535472972973)\n"
          ]
        },
        {
          "output_type": "stream",
          "name": "stderr",
          "text": [
            "\n",
            "Epoch 3:: 100%|██████████| 1407/1407 [00:20<00:00, 67.33it/s]"
          ]
        },
        {
          "output_type": "stream",
          "name": "stdout",
          "text": [
            "Epoch \u001b[34m3\u001b[0m/5 : \u001b[34mTraining\u001b[0m : (\u001b[36mloss\u001b[0m 0.6452305033517036) (\u001b[36macc\u001b[0m 0.5653207178393745)\n"
          ]
        },
        {
          "output_type": "stream",
          "name": "stderr",
          "text": [
            "\n",
            "validation:: 100%|██████████| 74/74 [00:01<00:00, 60.06it/s]"
          ]
        },
        {
          "output_type": "stream",
          "name": "stdout",
          "text": [
            "\u001b[34mvalidation\u001b[0m : (\u001b[36mloss\u001b[0m 0.7126901455827661) (\u001b[36macc\u001b[0m 0.4731841216216216)\n"
          ]
        },
        {
          "output_type": "stream",
          "name": "stderr",
          "text": [
            "\n",
            "Epoch 4:: 100%|██████████| 1407/1407 [00:20<00:00, 68.97it/s]"
          ]
        },
        {
          "output_type": "stream",
          "name": "stdout",
          "text": [
            "Epoch \u001b[34m4\u001b[0m/5 : \u001b[34mTraining\u001b[0m : (\u001b[36mloss\u001b[0m 0.6449291842493845) (\u001b[36macc\u001b[0m 0.5669087597725657)\n"
          ]
        },
        {
          "output_type": "stream",
          "name": "stderr",
          "text": [
            "\n",
            "validation:: 100%|██████████| 74/74 [00:01<00:00, 58.62it/s]\n"
          ]
        },
        {
          "output_type": "stream",
          "name": "stdout",
          "text": [
            "\u001b[34mvalidation\u001b[0m : (\u001b[36mloss\u001b[0m 0.6793762896512006) (\u001b[36macc\u001b[0m 0.5109797297297297)\n"
          ]
        }
      ]
    },
    {
      "cell_type": "markdown",
      "source": [
        "# TASK 3: categories"
      ],
      "metadata": {
        "id": "Uubmqr4fwFmY"
      },
      "id": "Uubmqr4fwFmY"
    },
    {
      "cell_type": "code",
      "source": [
        "train_loader_categories = DataLoader(yelp_Dataset(train_dataset_fasttext, label = 'categories'), batch_size=args['bsize'], num_workers=2, shuffle=True, drop_last=True)\n",
        "val_loader_categories   = DataLoader(yelp_Dataset(val_dataset_fasttext, label = 'categories'), batch_size=args['bsize'], num_workers=2, shuffle=True, drop_last=True)"
      ],
      "metadata": {
        "id": "gJLXZb77zyVp"
      },
      "id": "gJLXZb77zyVp",
      "execution_count": null,
      "outputs": []
    },
    {
      "cell_type": "code",
      "source": [
        "embeddim = 50\n",
        "hiddendim = 50\n",
        "outputdim = 140\n",
        "args.update({'max_eps': 5, 'lr': 0.001, 'device': 'cpu', 'cuda': 0, 'num_class': outputdim})\n",
        "\n",
        "model_base_categories = BaseModel(embeddim, hiddendim, outputdim, multi = True).to(device)\n",
        "loss_list_val = run_epochs(model_base_categories, train_loader_categories, val_loader_categories, args)"
      ],
      "metadata": {
        "colab": {
          "base_uri": "https://localhost:8080/"
        },
        "id": "DEel_wXt0F9A",
        "outputId": "b7beba0d-32e4-4cd5-afae-9507e077d285"
      },
      "id": "DEel_wXt0F9A",
      "execution_count": null,
      "outputs": [
        {
          "output_type": "stream",
          "name": "stderr",
          "text": [
            "Epoch 0::   0%|          | 0/1407 [00:00<?, ?it/s]/usr/local/lib/python3.7/dist-packages/ipykernel_launcher.py:9: UserWarning: To copy construct from a tensor, it is recommended to use sourceTensor.clone().detach() or sourceTensor.clone().detach().requires_grad_(True), rather than torch.tensor(sourceTensor).\n",
            "  if __name__ == '__main__':\n",
            "Epoch 0:: 100%|██████████| 1407/1407 [00:37<00:00, 37.29it/s]"
          ]
        },
        {
          "output_type": "stream",
          "name": "stdout",
          "text": [
            "Epoch \u001b[34m0\u001b[0m/5 : \u001b[34mTraining\u001b[0m : (\u001b[36mloss\u001b[0m 0.12621276016004898) (\u001b[36macc\u001b[0m 0.9663998248553166)\n"
          ]
        },
        {
          "output_type": "stream",
          "name": "stderr",
          "text": [
            "\n",
            "validation:: 100%|██████████| 74/74 [00:01<00:00, 60.76it/s]"
          ]
        },
        {
          "output_type": "stream",
          "name": "stdout",
          "text": [
            "\u001b[34mvalidation\u001b[0m : (\u001b[36mloss\u001b[0m 0.10553377252575513) (\u001b[36macc\u001b[0m 0.9713652268339764)\n"
          ]
        },
        {
          "output_type": "stream",
          "name": "stderr",
          "text": [
            "\n",
            "Epoch 1:: 100%|██████████| 1407/1407 [00:37<00:00, 37.35it/s]"
          ]
        },
        {
          "output_type": "stream",
          "name": "stdout",
          "text": [
            "Epoch \u001b[34m1\u001b[0m/5 : \u001b[34mTraining\u001b[0m : (\u001b[36mloss\u001b[0m 0.10103874279195396) (\u001b[36macc\u001b[0m 0.9717854445882825)\n"
          ]
        },
        {
          "output_type": "stream",
          "name": "stderr",
          "text": [
            "\n",
            "validation:: 100%|██████████| 74/74 [00:01<00:00, 60.55it/s]"
          ]
        },
        {
          "output_type": "stream",
          "name": "stdout",
          "text": [
            "\u001b[34mvalidation\u001b[0m : (\u001b[36mloss\u001b[0m 0.0988204850739724) (\u001b[36macc\u001b[0m 0.9719172297297297)\n"
          ]
        },
        {
          "output_type": "stream",
          "name": "stderr",
          "text": [
            "\n",
            "Epoch 2:: 100%|██████████| 1407/1407 [00:37<00:00, 37.35it/s]"
          ]
        },
        {
          "output_type": "stream",
          "name": "stdout",
          "text": [
            "Epoch \u001b[34m2\u001b[0m/5 : \u001b[34mTraining\u001b[0m : (\u001b[36mloss\u001b[0m 0.09483738703747209) (\u001b[36macc\u001b[0m 0.9725982650522919)\n"
          ]
        },
        {
          "output_type": "stream",
          "name": "stderr",
          "text": [
            "\n",
            "validation:: 100%|██████████| 74/74 [00:01<00:00, 59.27it/s]"
          ]
        },
        {
          "output_type": "stream",
          "name": "stdout",
          "text": [
            "\u001b[34mvalidation\u001b[0m : (\u001b[36mloss\u001b[0m 0.09366327463775068) (\u001b[36macc\u001b[0m 0.972739201254826)\n"
          ]
        },
        {
          "output_type": "stream",
          "name": "stderr",
          "text": [
            "\n",
            "Epoch 3:: 100%|██████████| 1407/1407 [00:37<00:00, 37.35it/s]"
          ]
        },
        {
          "output_type": "stream",
          "name": "stdout",
          "text": [
            "Epoch \u001b[34m3\u001b[0m/5 : \u001b[34mTraining\u001b[0m : (\u001b[36mloss\u001b[0m 0.08971162707503162) (\u001b[36macc\u001b[0m 0.9735295937404818)\n"
          ]
        },
        {
          "output_type": "stream",
          "name": "stderr",
          "text": [
            "\n",
            "validation:: 100%|██████████| 74/74 [00:01<00:00, 61.19it/s]"
          ]
        },
        {
          "output_type": "stream",
          "name": "stdout",
          "text": [
            "\u001b[34mvalidation\u001b[0m : (\u001b[36mloss\u001b[0m 0.09034358961759387) (\u001b[36macc\u001b[0m 0.9733123190154439)\n"
          ]
        },
        {
          "output_type": "stream",
          "name": "stderr",
          "text": [
            "\n",
            "Epoch 4:: 100%|██████████| 1407/1407 [00:37<00:00, 37.35it/s]"
          ]
        },
        {
          "output_type": "stream",
          "name": "stdout",
          "text": [
            "Epoch \u001b[34m4\u001b[0m/5 : \u001b[34mTraining\u001b[0m : (\u001b[36mloss\u001b[0m 0.08617704967996628) (\u001b[36macc\u001b[0m 0.9741946358767372)\n"
          ]
        },
        {
          "output_type": "stream",
          "name": "stderr",
          "text": [
            "\n",
            "validation:: 100%|██████████| 74/74 [00:01<00:00, 61.92it/s]\n"
          ]
        },
        {
          "output_type": "stream",
          "name": "stdout",
          "text": [
            "\u001b[34mvalidation\u001b[0m : (\u001b[36mloss\u001b[0m 0.08814820284779007) (\u001b[36macc\u001b[0m 0.973716517857143)\n"
          ]
        }
      ]
    },
    {
      "cell_type": "code",
      "source": [
        "embeddim = 300\n",
        "hiddendim = 50\n",
        "\n",
        "model_fast_categories = FastTextModel(embeddim, hiddendim, outputdim, multi = True).to(device)\n",
        "loss_list_val = run_epochs(model_fast_categories, train_loader_categories, val_loader_categories, args)"
      ],
      "metadata": {
        "colab": {
          "base_uri": "https://localhost:8080/"
        },
        "id": "hTkKHVWyxVD9",
        "outputId": "f93ddb47-16f8-4421-acd0-3531bad224b2"
      },
      "id": "hTkKHVWyxVD9",
      "execution_count": null,
      "outputs": [
        {
          "output_type": "stream",
          "name": "stderr",
          "text": [
            "Epoch 0::   0%|          | 0/1407 [00:00<?, ?it/s]/usr/local/lib/python3.7/dist-packages/ipykernel_launcher.py:9: UserWarning: To copy construct from a tensor, it is recommended to use sourceTensor.clone().detach() or sourceTensor.clone().detach().requires_grad_(True), rather than torch.tensor(sourceTensor).\n",
            "  if __name__ == '__main__':\n",
            "Epoch 0:: 100%|██████████| 1407/1407 [00:22<00:00, 63.54it/s]"
          ]
        },
        {
          "output_type": "stream",
          "name": "stdout",
          "text": [
            "Epoch \u001b[34m0\u001b[0m/5 : \u001b[34mTraining\u001b[0m : (\u001b[36mloss\u001b[0m 0.12554028111840276) (\u001b[36macc\u001b[0m 0.9657637355315262)\n"
          ]
        },
        {
          "output_type": "stream",
          "name": "stderr",
          "text": [
            "\n",
            "validation:: 100%|██████████| 74/74 [00:01<00:00, 58.87it/s]"
          ]
        },
        {
          "output_type": "stream",
          "name": "stdout",
          "text": [
            "\u001b[34mvalidation\u001b[0m : (\u001b[36mloss\u001b[0m 0.1129133991293005) (\u001b[36macc\u001b[0m 0.970508566602317)\n"
          ]
        },
        {
          "output_type": "stream",
          "name": "stderr",
          "text": [
            "\n",
            "Epoch 1:: 100%|██████████| 1407/1407 [00:21<00:00, 66.61it/s]"
          ]
        },
        {
          "output_type": "stream",
          "name": "stdout",
          "text": [
            "Epoch \u001b[34m1\u001b[0m/5 : \u001b[34mTraining\u001b[0m : (\u001b[36mloss\u001b[0m 0.11196723465980497) (\u001b[36macc\u001b[0m 0.9706342331708782)\n"
          ]
        },
        {
          "output_type": "stream",
          "name": "stderr",
          "text": [
            "\n",
            "validation:: 100%|██████████| 74/74 [00:01<00:00, 60.10it/s]"
          ]
        },
        {
          "output_type": "stream",
          "name": "stdout",
          "text": [
            "\u001b[34mvalidation\u001b[0m : (\u001b[36mloss\u001b[0m 0.11232396094380198) (\u001b[36macc\u001b[0m 0.9705161076254829)\n"
          ]
        },
        {
          "output_type": "stream",
          "name": "stderr",
          "text": [
            "\n",
            "Epoch 2:: 100%|██████████| 1407/1407 [00:21<00:00, 66.80it/s]"
          ]
        },
        {
          "output_type": "stream",
          "name": "stdout",
          "text": [
            "Epoch \u001b[34m2\u001b[0m/5 : \u001b[34mTraining\u001b[0m : (\u001b[36mloss\u001b[0m 0.10948335998390445) (\u001b[36macc\u001b[0m 0.9708960776474765)\n"
          ]
        },
        {
          "output_type": "stream",
          "name": "stderr",
          "text": [
            "\n",
            "validation:: 100%|██████████| 74/74 [00:01<00:00, 61.83it/s]"
          ]
        },
        {
          "output_type": "stream",
          "name": "stdout",
          "text": [
            "\u001b[34mvalidation\u001b[0m : (\u001b[36mloss\u001b[0m 0.10828797317839958) (\u001b[36macc\u001b[0m 0.9709806346525095)\n"
          ]
        },
        {
          "output_type": "stream",
          "name": "stderr",
          "text": [
            "\n",
            "Epoch 3:: 100%|██████████| 1407/1407 [00:21<00:00, 66.22it/s]"
          ]
        },
        {
          "output_type": "stream",
          "name": "stdout",
          "text": [
            "Epoch \u001b[34m3\u001b[0m/5 : \u001b[34mTraining\u001b[0m : (\u001b[36mloss\u001b[0m 0.10702228623454928) (\u001b[36macc\u001b[0m 0.9711092972636814)\n"
          ]
        },
        {
          "output_type": "stream",
          "name": "stderr",
          "text": [
            "\n",
            "validation:: 100%|██████████| 74/74 [00:01<00:00, 62.59it/s]"
          ]
        },
        {
          "output_type": "stream",
          "name": "stdout",
          "text": [
            "\u001b[34mvalidation\u001b[0m : (\u001b[36mloss\u001b[0m 0.10662425450376563) (\u001b[36macc\u001b[0m 0.9711043074324319)\n"
          ]
        },
        {
          "output_type": "stream",
          "name": "stderr",
          "text": [
            "\n",
            "Epoch 4:: 100%|██████████| 1407/1407 [00:21<00:00, 65.76it/s]"
          ]
        },
        {
          "output_type": "stream",
          "name": "stdout",
          "text": [
            "Epoch \u001b[34m4\u001b[0m/5 : \u001b[34mTraining\u001b[0m : (\u001b[36mloss\u001b[0m 0.10562150692931285) (\u001b[36macc\u001b[0m 0.9711632367499243)\n"
          ]
        },
        {
          "output_type": "stream",
          "name": "stderr",
          "text": [
            "\n",
            "validation:: 100%|██████████| 74/74 [00:01<00:00, 59.34it/s]"
          ]
        },
        {
          "output_type": "stream",
          "name": "stdout",
          "text": [
            "\u001b[34mvalidation\u001b[0m : (\u001b[36mloss\u001b[0m 0.10537628759000753) (\u001b[36macc\u001b[0m 0.971184242277992)\n"
          ]
        },
        {
          "output_type": "stream",
          "name": "stderr",
          "text": [
            "\n"
          ]
        }
      ]
    },
    {
      "cell_type": "markdown",
      "source": [
        "# Results"
      ],
      "metadata": {
        "id": "gOfABfefh5MZ"
      },
      "id": "gOfABfefh5MZ"
    },
    {
      "cell_type": "code",
      "source": [
        "from sklearn.metrics import classification_report, confusion_matrix, roc_curve, auc, plot_roc_curve"
      ],
      "metadata": {
        "id": "n7qui2zOkri7"
      },
      "id": "n7qui2zOkri7",
      "execution_count": null,
      "outputs": []
    },
    {
      "cell_type": "code",
      "source": [
        "test_loader_stars = DataLoader(yelp_Dataset(test_dataset_fasttext, label = 'stars'), batch_size=args['bsize'], num_workers=2, shuffle=True, drop_last=True)"
      ],
      "metadata": {
        "id": "J9sSkcrjk_zo"
      },
      "id": "J9sSkcrjk_zo",
      "execution_count": null,
      "outputs": []
    },
    {
      "cell_type": "code",
      "source": [
        "trues, preds, loss_it_avg, acc_it_avg, loss_it, acc_it = inference(\"test\", test_loader_stars, model_base_stars)\n",
        "print(classification_report(np.array(trues).flatten(), np.array(preds).flatten()))"
      ],
      "metadata": {
        "colab": {
          "base_uri": "https://localhost:8080/"
        },
        "id": "V33ygP6Ck_3N",
        "outputId": "1af208a2-980d-41bb-ecc1-b13ffab7cf75"
      },
      "id": "V33ygP6Ck_3N",
      "execution_count": null,
      "outputs": [
        {
          "output_type": "stream",
          "name": "stderr",
          "text": [
            "test:: 100%|██████████| 370/370 [00:05<00:00, 69.14it/s]"
          ]
        },
        {
          "output_type": "stream",
          "name": "stdout",
          "text": [
            "\u001b[34mtest\u001b[0m : (\u001b[36mloss\u001b[0m 1.358165944589151) (\u001b[36macc\u001b[0m 0.5336993243243243)\n",
            "              precision    recall  f1-score   support\n",
            "\n",
            "           0       0.61      0.66      0.63      3458\n",
            "           1       0.27      0.39      0.32      1984\n",
            "           2       0.26      0.37      0.31      2333\n",
            "           3       0.39      0.42      0.40      5207\n",
            "           4       0.81      0.61      0.69     10698\n",
            "\n",
            "    accuracy                           0.53     23680\n",
            "   macro avg       0.47      0.49      0.47     23680\n",
            "weighted avg       0.59      0.53      0.55     23680\n",
            "\n"
          ]
        },
        {
          "output_type": "stream",
          "name": "stderr",
          "text": [
            "\n"
          ]
        }
      ]
    },
    {
      "cell_type": "code",
      "source": [
        "trues, preds, loss_it_avg, acc_it_avg, loss_it, acc_it = inference(\"test\", test_loader_stars, model_fast_stars)\n",
        "print(classification_report(np.array(trues).flatten(), np.array(preds).flatten()))"
      ],
      "metadata": {
        "id": "L1NQzDQ4k_7I",
        "colab": {
          "base_uri": "https://localhost:8080/"
        },
        "outputId": "18790bda-b34f-4ca5-b11c-c21bac45f2b2"
      },
      "id": "L1NQzDQ4k_7I",
      "execution_count": null,
      "outputs": [
        {
          "output_type": "stream",
          "name": "stderr",
          "text": [
            "test:: 100%|██████████| 370/370 [00:05<00:00, 68.86it/s]\n"
          ]
        },
        {
          "output_type": "stream",
          "name": "stdout",
          "text": [
            "\u001b[34mtest\u001b[0m : (\u001b[36mloss\u001b[0m 1.442088779243263) (\u001b[36macc\u001b[0m 0.4388091216216216)\n",
            "              precision    recall  f1-score   support\n",
            "\n",
            "           0       0.38      0.60      0.46      3455\n",
            "           1       0.18      0.25      0.21      1986\n",
            "           2       0.21      0.32      0.26      2333\n",
            "           3       0.33      0.28      0.30      5204\n",
            "           4       0.75      0.53      0.62     10702\n",
            "\n",
            "    accuracy                           0.44     23680\n",
            "   macro avg       0.37      0.39      0.37     23680\n",
            "weighted avg       0.50      0.44      0.46     23680\n",
            "\n"
          ]
        }
      ]
    },
    {
      "cell_type": "code",
      "source": [
        "test_loader_useful = DataLoader(yelp_Dataset(test_dataset_fasttext, label = 'useful'), batch_size=args['bsize'], num_workers=2, shuffle=True, drop_last=True)"
      ],
      "metadata": {
        "id": "OSXPGSGqtCjT"
      },
      "id": "OSXPGSGqtCjT",
      "execution_count": null,
      "outputs": []
    },
    {
      "cell_type": "code",
      "source": [
        "trues, preds, loss_it_avg, acc_it_avg, loss_it, acc_it = inference(\"test\", test_loader_useful, model_base_useful)\n",
        "print(classification_report(np.array(trues).flatten(), np.array(preds).flatten()))"
      ],
      "metadata": {
        "id": "lb0s9LsxlAKv",
        "colab": {
          "base_uri": "https://localhost:8080/"
        },
        "outputId": "ac2482dd-0105-42ae-856c-1b27cf6edd7e"
      },
      "id": "lb0s9LsxlAKv",
      "execution_count": null,
      "outputs": [
        {
          "output_type": "stream",
          "name": "stderr",
          "text": [
            "test:: 100%|██████████| 370/370 [00:05<00:00, 68.69it/s]\n"
          ]
        },
        {
          "output_type": "stream",
          "name": "stdout",
          "text": [
            "\u001b[34mtest\u001b[0m : (\u001b[36mloss\u001b[0m 0.5825232465524931) (\u001b[36macc\u001b[0m 0.7128378378378378)\n",
            "              precision    recall  f1-score   support\n",
            "\n",
            "           0       0.93      0.74      0.82     21422\n",
            "           1       0.15      0.44      0.22      2258\n",
            "\n",
            "    accuracy                           0.71     23680\n",
            "   macro avg       0.54      0.59      0.52     23680\n",
            "weighted avg       0.85      0.71      0.77     23680\n",
            "\n"
          ]
        }
      ]
    },
    {
      "cell_type": "code",
      "source": [
        "trues, preds, loss_it_avg, acc_it_avg, loss_it, acc_it = inference(\"test\", test_loader_useful, model_fast_useful)\n",
        "print(classification_report(np.array(trues).flatten(), np.array(preds).flatten()))"
      ],
      "metadata": {
        "id": "YEDnwAiplARP",
        "colab": {
          "base_uri": "https://localhost:8080/"
        },
        "outputId": "86a36663-4ddd-4c0e-faaa-adc3b6728c7b"
      },
      "id": "YEDnwAiplARP",
      "execution_count": null,
      "outputs": [
        {
          "output_type": "stream",
          "name": "stderr",
          "text": [
            "test:: 100%|██████████| 370/370 [00:05<00:00, 68.67it/s]\n"
          ]
        },
        {
          "output_type": "stream",
          "name": "stdout",
          "text": [
            "\u001b[34mtest\u001b[0m : (\u001b[36mloss\u001b[0m 0.6735922784418673) (\u001b[36macc\u001b[0m 0.5230996621621622)\n",
            "              precision    recall  f1-score   support\n",
            "\n",
            "           0       0.95      0.50      0.65     21425\n",
            "           1       0.14      0.75      0.23      2255\n",
            "\n",
            "    accuracy                           0.52     23680\n",
            "   macro avg       0.54      0.62      0.44     23680\n",
            "weighted avg       0.87      0.52      0.61     23680\n",
            "\n"
          ]
        }
      ]
    },
    {
      "cell_type": "code",
      "source": [
        "test_loader_categories = DataLoader(yelp_Dataset(test_dataset_fasttext, label = 'categories'), batch_size=args['bsize'], num_workers=2, shuffle=True, drop_last=True)"
      ],
      "metadata": {
        "id": "zpgyHJcltHg9"
      },
      "id": "zpgyHJcltHg9",
      "execution_count": null,
      "outputs": []
    },
    {
      "cell_type": "code",
      "source": [
        "trues, preds, loss_it_avg, acc_it_avg, loss_it, acc_it = inference(\"test\", test_loader_categories, model_base_categories)\n",
        "print(classification_report(np.concatenate(trues, axis=0), np.concatenate(preds, axis = 0), target_names = unmap_categories))"
      ],
      "metadata": {
        "colab": {
          "base_uri": "https://localhost:8080/"
        },
        "id": "-8MOXUccjHY_",
        "outputId": "a13fc34a-a5d8-48cc-fa99-9c5de4108e93"
      },
      "id": "-8MOXUccjHY_",
      "execution_count": null,
      "outputs": [
        {
          "output_type": "stream",
          "name": "stderr",
          "text": [
            "test:: 100%|██████████| 370/370 [00:05<00:00, 66.82it/s]\n"
          ]
        },
        {
          "output_type": "stream",
          "name": "stdout",
          "text": [
            "\u001b[34mtest\u001b[0m : (\u001b[36mloss\u001b[0m 0.08728417256796682) (\u001b[36macc\u001b[0m 0.9741774251930511)\n",
            "                           precision    recall  f1-score   support\n",
            "\n",
            "              Food Trucks       0.00      0.00      0.00       204\n",
            "            Home & Garden       0.00      0.00      0.00       264\n",
            "                 Bakeries       0.00      0.00      0.00       874\n",
            "                    Pizza       0.88      0.44      0.58      1790\n",
            "             Beer Gardens       0.00      0.00      0.00       111\n",
            "                  Mexican       0.91      0.26      0.41      1693\n",
            "                     Thai       0.60      0.03      0.07       523\n",
            "                    Tacos       0.00      0.00      0.00       262\n",
            "                  Burgers       1.00      0.00      0.00      1588\n",
            "                   Indian       0.00      0.00      0.00       356\n",
            "                  Tex-Mex       0.00      0.00      0.00       330\n",
            "   Food Delivery Services       0.00      0.00      0.00       233\n",
            "                   French       0.00      0.00      0.00       294\n",
            "               Vietnamese       0.60      0.01      0.01       407\n",
            "                Breweries       0.00      0.00      0.00       429\n",
            "           Specialty Food       0.00      0.00      0.00       936\n",
            "               Gastropubs       0.00      0.00      0.00       344\n",
            "                 Day Spas       0.00      0.00      0.00       283\n",
            "                 Southern       0.00      0.00      0.00       529\n",
            "       Breakfast & Brunch       0.72      0.06      0.11      2747\n",
            "                  Lounges       0.00      0.00      0.00       442\n",
            "                  Fashion       0.00      0.00      0.00       267\n",
            "              Nail Salons       0.72      0.60      0.65       564\n",
            "              Hair Salons       1.00      0.03      0.05       348\n",
            "             Music Venues       0.00      0.00      0.00       412\n",
            "        Coffee Roasteries       0.00      0.00      0.00        93\n",
            "   Party & Event Planning       0.00      0.00      0.00       140\n",
            "             Cajun/Creole       0.00      0.00      0.00       457\n",
            "                  Spanish       0.00      0.00      0.00       102\n",
            "       Tapas/Small Plates       0.00      0.00      0.00       255\n",
            "            Chicken Wings       0.00      0.00      0.00       617\n",
            "              Active Life       0.00      0.00      0.00       588\n",
            "             Local Flavor       0.00      0.00      0.00       380\n",
            "                    Delis       0.00      0.00      0.00       485\n",
            "            Cocktail Bars       0.00      0.00      0.00      1000\n",
            "           Sporting Goods       0.00      0.00      0.00        84\n",
            "             Hair Removal       0.48      0.15      0.23       439\n",
            "                    Cuban       0.00      0.00      0.00       110\n",
            "                    Tours       0.00      0.00      0.00       203\n",
            "              Sports Bars       0.00      0.00      0.00       865\n",
            "             Coffee & Tea       0.64      0.18      0.28      1684\n",
            "               Vegetarian       0.00      0.00      0.00       600\n",
            "               Bubble Tea       0.00      0.00      0.00       196\n",
            "     Arts & Entertainment       0.50      0.00      0.01      1133\n",
            "                 Shopping       0.88      0.01      0.02      1280\n",
            "            Home Services       0.00      0.00      0.00       457\n",
            "              Dance Clubs       0.00      0.00      0.00        99\n",
            "           Health Markets       0.00      0.00      0.00       110\n",
            "                     Pets       0.00      0.00      0.00       224\n",
            "          Eyelash Service       0.00      0.00      0.00       163\n",
            "                  Chinese       0.58      0.07      0.13       836\n",
            "                 Caterers       0.00      0.00      0.00       850\n",
            "Ice Cream & Frozen Yogurt       0.64      0.01      0.03       506\n",
            "                Wine Bars       0.00      0.00      0.00       672\n",
            "            Mediterranean       0.00      0.00      0.00       528\n",
            "                  Italian       0.43      0.04      0.07      1692\n",
            "           Local Services       0.00      0.00      0.00       427\n",
            "                   Cinema       0.00      0.00      0.00       140\n",
            "                    Vegan       0.00      0.00      0.00       435\n",
            "                     Beer       0.00      0.00      0.00       766\n",
            "              Restaurants       0.92      0.95      0.93     17238\n",
            "                 Barbeque       0.00      0.00      0.00       702\n",
            "                 Japanese       0.73      0.33      0.45       918\n",
            "                 Hot Dogs       0.00      0.00      0.00       178\n",
            "                Fast Food       0.00      0.00      0.00       771\n",
            "                     Gyms       0.00      0.00      0.00        95\n",
            "                   Waxing       0.71      0.01      0.03       353\n",
            "              Ethnic Food       0.00      0.00      0.00       246\n",
            "                  Museums       0.00      0.00      0.00        99\n",
            "           American (New)       0.00      0.00      0.00      3040\n",
            "               Sushi Bars       0.84      0.38      0.52       995\n",
            "                  Buffets       0.00      0.00      0.00       239\n",
            "      Oil Change Stations       0.00      0.00      0.00       127\n",
            "                    Irish       0.00      0.00      0.00       120\n",
            "             Asian Fusion       0.25      0.00      0.01       758\n",
            "               Body Shops       0.00      0.00      0.00        93\n",
            "    Auto Parts & Supplies       0.46      0.05      0.09       232\n",
            "           Transportation       0.00      0.00      0.00       112\n",
            "                Education       0.00      0.00      0.00       108\n",
            "           Wine & Spirits       0.00      0.00      0.00       766\n",
            "                Dive Bars       0.00      0.00      0.00       201\n",
            "                    Cafes       0.00      0.00      0.00       983\n",
            "                   Hotels       0.85      0.61      0.71       723\n",
            "                Caribbean       0.00      0.00      0.00       181\n",
            "                 Wineries       0.00      0.00      0.00       101\n",
            "             Cheesesteaks       0.00      0.00      0.00       177\n",
            "                 Beer Bar       0.00      0.00      0.00       475\n",
            "                   Diners       0.00      0.00      0.00       637\n",
            "             Chicken Shop       0.00      0.00      0.00       199\n",
            "                  Doctors       0.00      0.00      0.00       115\n",
            "Event Planning & Services       0.77      0.23      0.36      2138\n",
            "               Automotive       0.76      0.49      0.59       664\n",
            "               Home Decor       0.00      0.00      0.00        89\n",
            "                    Tires       0.00      0.00      0.00       162\n",
            "                  Grocery       0.00      0.00      0.00       425\n",
            "          Flowers & Gifts       0.00      0.00      0.00       126\n",
            "                    Parks       0.00      0.00      0.00       125\n",
            "                   Donuts       0.00      0.00      0.00       187\n",
            "                  Noodles       0.00      0.00      0.00       199\n",
            "              Electronics       0.00      0.00      0.00       118\n",
            "              Car Dealers       0.61      0.34      0.44       287\n",
            "              Auto Repair       0.73      0.31      0.44       380\n",
            "                Pakistani       0.00      0.00      0.00       114\n",
            "           Middle Eastern       0.00      0.00      0.00       246\n",
            "                Nightlife       0.63      0.44      0.52      5314\n",
            "            Beauty & Spas       0.91      0.66      0.76      1159\n",
            "    Fitness & Instruction       0.00      0.00      0.00       143\n",
            "                     Food       0.75      0.29      0.42      6473\n",
            "             Comfort Food       0.00      0.00      0.00       367\n",
            "                     Bars       0.62      0.42      0.50      5041\n",
            "                 Cupcakes       0.00      0.00      0.00        93\n",
            "                   Korean       0.00      0.00      0.00       216\n",
            "             Pet Services       0.00      0.00      0.00       144\n",
            "                     Soup       0.00      0.00      0.00       442\n",
            "   American (Traditional)       0.49      0.03      0.06      3646\n",
            "          Hotels & Travel       0.82      0.48      0.60      1192\n",
            "                  Seafood       0.00      0.00      0.00      1782\n",
            "                    Salad       0.00      0.00      0.00      1291\n",
            "                  Massage       0.00      0.00      0.00       228\n",
            "               Sandwiches       0.43      0.00      0.00      2357\n",
            "    Venues & Event Spaces       0.41      0.01      0.02       709\n",
            "              Steakhouses       0.00      0.00      0.00       877\n",
            "                    Halal       0.00      0.00      0.00       123\n",
            "              Gluten-Free       0.00      0.00      0.00       415\n",
            "                    Greek       0.00      0.00      0.00       299\n",
            "                Skin Care       0.00      0.00      0.00       297\n",
            "           Latin American       0.00      0.00      0.00       301\n",
            "               Tapas Bars       0.00      0.00      0.00       115\n",
            "            Veterinarians       0.00      0.00      0.00       118\n",
            "              Real Estate       0.00      0.00      0.00       100\n",
            "        Department Stores       0.00      0.00      0.00        93\n",
            "    Professional Services       0.00      0.00      0.00       122\n",
            "                     Poke       0.00      0.00      0.00        95\n",
            "   Juice Bars & Smoothies       0.00      0.00      0.00       393\n",
            "                Soul Food       0.00      0.00      0.00       147\n",
            "         Health & Medical       0.00      0.00      0.00       357\n",
            "                     Pubs       1.00      0.00      0.00       829\n",
            "                    Ramen       0.00      0.00      0.00       120\n",
            "                 Desserts       0.00      0.00      0.00      1018\n",
            "                   Bagels       0.00      0.00      0.00       220\n",
            "\n",
            "                micro avg       0.82      0.27      0.40    107724\n",
            "                macro avg       0.17      0.06      0.07    107724\n",
            "             weighted avg       0.47      0.27      0.30    107724\n",
            "              samples avg       0.75      0.30      0.39    107724\n",
            "\n"
          ]
        },
        {
          "output_type": "stream",
          "name": "stderr",
          "text": [
            "/usr/local/lib/python3.7/dist-packages/sklearn/metrics/_classification.py:1318: UndefinedMetricWarning: Precision and F-score are ill-defined and being set to 0.0 in labels with no predicted samples. Use `zero_division` parameter to control this behavior.\n",
            "  _warn_prf(average, modifier, msg_start, len(result))\n",
            "/usr/local/lib/python3.7/dist-packages/sklearn/metrics/_classification.py:1318: UndefinedMetricWarning: Precision and F-score are ill-defined and being set to 0.0 in samples with no predicted labels. Use `zero_division` parameter to control this behavior.\n",
            "  _warn_prf(average, modifier, msg_start, len(result))\n"
          ]
        }
      ]
    },
    {
      "cell_type": "code",
      "source": [
        "trues, preds, loss_it_avg, acc_it_avg, loss_it, acc_it = inference(\"test\", test_loader_categories, model_fast_categories)\n",
        "print(classification_report(np.concatenate(trues, axis=0), np.concatenate(preds, axis = 0), target_names = unmap_categories))"
      ],
      "metadata": {
        "colab": {
          "base_uri": "https://localhost:8080/"
        },
        "id": "jDQjpb8Oh81H",
        "outputId": "af835a13-28a8-4b35-a464-c48f1c07b5e8"
      },
      "id": "jDQjpb8Oh81H",
      "execution_count": null,
      "outputs": [
        {
          "output_type": "stream",
          "name": "stderr",
          "text": [
            "test:: 100%|██████████| 370/370 [00:05<00:00, 66.87it/s]\n"
          ]
        },
        {
          "output_type": "stream",
          "name": "stdout",
          "text": [
            "\u001b[34mtest\u001b[0m : (\u001b[36mloss\u001b[0m 0.10465989356508126) (\u001b[36macc\u001b[0m 0.9713257118725869)\n",
            "                           precision    recall  f1-score   support\n",
            "\n",
            "              Food Trucks       0.00      0.00      0.00       204\n",
            "            Home & Garden       0.00      0.00      0.00       264\n",
            "                 Bakeries       0.00      0.00      0.00       874\n",
            "                    Pizza       0.97      0.06      0.11      1790\n",
            "             Beer Gardens       0.00      0.00      0.00       111\n",
            "                  Mexican       0.00      0.00      0.00      1691\n",
            "                     Thai       0.00      0.00      0.00       524\n",
            "                    Tacos       0.00      0.00      0.00       262\n",
            "                  Burgers       0.00      0.00      0.00      1589\n",
            "                   Indian       0.00      0.00      0.00       357\n",
            "                  Tex-Mex       0.00      0.00      0.00       330\n",
            "   Food Delivery Services       0.00      0.00      0.00       235\n",
            "                   French       0.00      0.00      0.00       296\n",
            "               Vietnamese       0.00      0.00      0.00       407\n",
            "                Breweries       0.00      0.00      0.00       429\n",
            "           Specialty Food       0.00      0.00      0.00       937\n",
            "               Gastropubs       0.00      0.00      0.00       343\n",
            "                 Day Spas       0.00      0.00      0.00       283\n",
            "                 Southern       0.00      0.00      0.00       531\n",
            "       Breakfast & Brunch       0.00      0.00      0.00      2749\n",
            "                  Lounges       0.00      0.00      0.00       442\n",
            "                  Fashion       0.00      0.00      0.00       268\n",
            "              Nail Salons       1.00      0.01      0.01       564\n",
            "              Hair Salons       0.00      0.00      0.00       348\n",
            "             Music Venues       0.00      0.00      0.00       412\n",
            "        Coffee Roasteries       0.00      0.00      0.00        93\n",
            "   Party & Event Planning       0.00      0.00      0.00       139\n",
            "             Cajun/Creole       0.00      0.00      0.00       456\n",
            "                  Spanish       0.00      0.00      0.00       102\n",
            "       Tapas/Small Plates       0.00      0.00      0.00       255\n",
            "            Chicken Wings       0.00      0.00      0.00       617\n",
            "              Active Life       0.00      0.00      0.00       586\n",
            "             Local Flavor       0.00      0.00      0.00       380\n",
            "                    Delis       0.00      0.00      0.00       485\n",
            "            Cocktail Bars       0.00      0.00      0.00      1002\n",
            "           Sporting Goods       0.00      0.00      0.00        85\n",
            "             Hair Removal       0.00      0.00      0.00       439\n",
            "                    Cuban       0.00      0.00      0.00       110\n",
            "                    Tours       0.00      0.00      0.00       205\n",
            "              Sports Bars       0.00      0.00      0.00       867\n",
            "             Coffee & Tea       0.00      0.00      0.00      1684\n",
            "               Vegetarian       0.00      0.00      0.00       599\n",
            "               Bubble Tea       0.00      0.00      0.00       196\n",
            "     Arts & Entertainment       0.00      0.00      0.00      1131\n",
            "                 Shopping       0.00      0.00      0.00      1280\n",
            "            Home Services       0.00      0.00      0.00       457\n",
            "              Dance Clubs       0.00      0.00      0.00        99\n",
            "           Health Markets       0.00      0.00      0.00       110\n",
            "                     Pets       0.00      0.00      0.00       224\n",
            "          Eyelash Service       0.00      0.00      0.00       163\n",
            "                  Chinese       0.00      0.00      0.00       838\n",
            "                 Caterers       0.00      0.00      0.00       851\n",
            "Ice Cream & Frozen Yogurt       0.00      0.00      0.00       505\n",
            "                Wine Bars       0.00      0.00      0.00       670\n",
            "            Mediterranean       0.00      0.00      0.00       528\n",
            "                  Italian       0.15      0.00      0.00      1692\n",
            "           Local Services       0.00      0.00      0.00       428\n",
            "                   Cinema       0.00      0.00      0.00       140\n",
            "                    Vegan       0.00      0.00      0.00       434\n",
            "                     Beer       0.00      0.00      0.00       767\n",
            "              Restaurants       0.83      0.91      0.87     17239\n",
            "                 Barbeque       0.00      0.00      0.00       703\n",
            "                 Japanese       0.00      0.00      0.00       921\n",
            "                 Hot Dogs       0.00      0.00      0.00       178\n",
            "                Fast Food       0.00      0.00      0.00       771\n",
            "                     Gyms       0.00      0.00      0.00        94\n",
            "                   Waxing       0.00      0.00      0.00       353\n",
            "              Ethnic Food       0.00      0.00      0.00       246\n",
            "                  Museums       0.00      0.00      0.00        99\n",
            "           American (New)       0.00      0.00      0.00      3045\n",
            "               Sushi Bars       0.00      0.00      0.00       998\n",
            "                  Buffets       0.00      0.00      0.00       240\n",
            "      Oil Change Stations       0.00      0.00      0.00       127\n",
            "                    Irish       0.00      0.00      0.00       120\n",
            "             Asian Fusion       0.00      0.00      0.00       758\n",
            "               Body Shops       0.00      0.00      0.00        93\n",
            "    Auto Parts & Supplies       0.00      0.00      0.00       232\n",
            "           Transportation       0.00      0.00      0.00       112\n",
            "                Education       0.00      0.00      0.00       108\n",
            "           Wine & Spirits       0.00      0.00      0.00       767\n",
            "                Dive Bars       0.00      0.00      0.00       200\n",
            "                    Cafes       0.00      0.00      0.00       982\n",
            "                   Hotels       1.00      0.01      0.02       721\n",
            "                Caribbean       0.00      0.00      0.00       181\n",
            "                 Wineries       0.00      0.00      0.00        99\n",
            "             Cheesesteaks       0.00      0.00      0.00       177\n",
            "                 Beer Bar       0.00      0.00      0.00       475\n",
            "                   Diners       0.00      0.00      0.00       637\n",
            "             Chicken Shop       0.00      0.00      0.00       199\n",
            "                  Doctors       0.00      0.00      0.00       115\n",
            "Event Planning & Services       1.00      0.00      0.00      2139\n",
            "               Automotive       0.00      0.00      0.00       665\n",
            "               Home Decor       0.00      0.00      0.00        89\n",
            "                    Tires       0.00      0.00      0.00       162\n",
            "                  Grocery       0.00      0.00      0.00       426\n",
            "          Flowers & Gifts       0.00      0.00      0.00       126\n",
            "                    Parks       0.00      0.00      0.00       125\n",
            "                   Donuts       0.00      0.00      0.00       187\n",
            "                  Noodles       0.00      0.00      0.00       199\n",
            "              Electronics       0.00      0.00      0.00       118\n",
            "              Car Dealers       0.00      0.00      0.00       287\n",
            "              Auto Repair       0.00      0.00      0.00       380\n",
            "                Pakistani       0.00      0.00      0.00       115\n",
            "           Middle Eastern       0.00      0.00      0.00       246\n",
            "                Nightlife       0.60      0.01      0.03      5316\n",
            "            Beauty & Spas       0.72      0.03      0.06      1158\n",
            "    Fitness & Instruction       0.00      0.00      0.00       141\n",
            "                     Food       0.79      0.00      0.01      6480\n",
            "             Comfort Food       0.00      0.00      0.00       367\n",
            "                     Bars       0.60      0.01      0.01      5043\n",
            "                 Cupcakes       0.00      0.00      0.00        93\n",
            "                   Korean       0.00      0.00      0.00       217\n",
            "             Pet Services       0.00      0.00      0.00       144\n",
            "                     Soup       0.00      0.00      0.00       443\n",
            "   American (Traditional)       0.00      0.00      0.00      3650\n",
            "          Hotels & Travel       1.00      0.01      0.02      1192\n",
            "                  Seafood       0.00      0.00      0.00      1779\n",
            "                    Salad       0.00      0.00      0.00      1291\n",
            "                  Massage       0.00      0.00      0.00       227\n",
            "               Sandwiches       0.00      0.00      0.00      2356\n",
            "    Venues & Event Spaces       0.00      0.00      0.00       710\n",
            "              Steakhouses       0.00      0.00      0.00       878\n",
            "                    Halal       0.00      0.00      0.00       124\n",
            "              Gluten-Free       0.00      0.00      0.00       416\n",
            "                    Greek       0.00      0.00      0.00       299\n",
            "                Skin Care       0.00      0.00      0.00       297\n",
            "           Latin American       0.00      0.00      0.00       301\n",
            "               Tapas Bars       0.00      0.00      0.00       115\n",
            "            Veterinarians       0.00      0.00      0.00       118\n",
            "              Real Estate       0.00      0.00      0.00       101\n",
            "        Department Stores       0.00      0.00      0.00        93\n",
            "    Professional Services       0.00      0.00      0.00       122\n",
            "                     Poke       0.00      0.00      0.00        95\n",
            "   Juice Bars & Smoothies       0.00      0.00      0.00       393\n",
            "                Soul Food       0.00      0.00      0.00       147\n",
            "         Health & Medical       0.00      0.00      0.00       357\n",
            "                     Pubs       0.00      0.00      0.00       830\n",
            "                    Ramen       0.00      0.00      0.00       120\n",
            "                 Desserts       0.00      0.00      0.00      1022\n",
            "                   Bagels       0.00      0.00      0.00       220\n",
            "\n",
            "                micro avg       0.83      0.15      0.25    107766\n",
            "                macro avg       0.06      0.01      0.01    107766\n",
            "             weighted avg       0.31      0.15      0.14    107766\n",
            "              samples avg       0.66      0.17      0.26    107766\n",
            "\n"
          ]
        },
        {
          "output_type": "stream",
          "name": "stderr",
          "text": [
            "/usr/local/lib/python3.7/dist-packages/sklearn/metrics/_classification.py:1318: UndefinedMetricWarning: Precision and F-score are ill-defined and being set to 0.0 in labels with no predicted samples. Use `zero_division` parameter to control this behavior.\n",
            "  _warn_prf(average, modifier, msg_start, len(result))\n",
            "/usr/local/lib/python3.7/dist-packages/sklearn/metrics/_classification.py:1318: UndefinedMetricWarning: Precision and F-score are ill-defined and being set to 0.0 in samples with no predicted labels. Use `zero_division` parameter to control this behavior.\n",
            "  _warn_prf(average, modifier, msg_start, len(result))\n"
          ]
        }
      ]
    },
    {
      "cell_type": "markdown",
      "source": [
        "BERT Try"
      ],
      "metadata": {
        "id": "wGe01TWvz1kZ"
      },
      "id": "wGe01TWvz1kZ"
    },
    {
      "cell_type": "code",
      "source": [
        "def train(model_embedding, model_classifier, loader, optimizer, ep, args, local = False):\n",
        "    model_classifier.train()\n",
        "    if local : \n",
        "      model_embedding.train()\n",
        "    loss_it, acc_it = list(), list()\n",
        "    \n",
        "    for it, batch in tqdm(enumerate(loader), desc=\"Epoch %s:\" % (ep), total=loader.__len__()):\n",
        "        batch = {'text': torch.tensor(batch['text']).to(device), 'label': torch.tensor(batch['label']).type(torch.LongTensor).to(device)}\n",
        "        optimizer.zero_grad()\n",
        "        logits = model_classifier(model_embedding(batch['text']))\n",
        "\n",
        "        b_counter = Counter(batch['label'].detach().cpu().tolist())\n",
        "        b_weights = torch.tensor( [ sum(batch['label'].detach().cpu().tolist()) / b_counter[label] if b_counter[label] > 0 else 0 for label in list(range(args['num_class'])) ] )\n",
        "        b_weights = b_weights.to(device)\n",
        "\n",
        "        loss_function = nn.CrossEntropyLoss(weight=b_weights)\n",
        "        loss = loss_function(logits, batch['label'])\n",
        "\n",
        "        loss.backward()\n",
        "        optimizer.step()\n",
        "        loss_it.append(loss.item())\n",
        "        _, tag_seq  = torch.max(logits, 1)\n",
        "\n",
        "        correct = (tag_seq.flatten() == batch['label'].flatten()).float().sum()\n",
        "        acc = correct / batch['label'].flatten().size(0)\n",
        "        acc_it.append(acc.item())\n",
        "\n",
        "    loss_it_avg = sum(loss_it)/len(loss_it)\n",
        "    acc_it_avg = sum(acc_it)/len(acc_it)\n",
        "  \n",
        "    print(\"Epoch %s/%s : %s : (%s %s) (%s %s)\" % (colored(str(ep), 'blue'),args['max_eps'] , colored('Training', 'blue'), colored('loss', 'cyan'), sum(loss_it)/len(loss_it), colored('acc', 'cyan'), sum(acc_it) / len(acc_it)))\n",
        "\n",
        "\n",
        "\n",
        "def inference(target, loader, model_embedding, model_classifier, local = False):\n",
        "\n",
        "    model_classifier.eval()\n",
        "    if local : \n",
        "      model_embedding.eval()\n",
        "\n",
        "    loss_it, acc_it, f1_it = list(), list(), list()\n",
        "    preds, trues = list(), list()\n",
        "\n",
        "    for it, batch in tqdm(enumerate(loader), desc=\"%s:\" % (target), total=loader.__len__()):\n",
        "    \n",
        "        with torch.no_grad():\n",
        "            batch = {'text': batch['text'].to(device), 'label': batch['label'].type(torch.LongTensor).to(device)}\n",
        "            logits = model_classifier(model_embedding(batch['text']))\n",
        "            loss_function = nn.CrossEntropyLoss()\n",
        "            loss = loss_function(logits, batch['label'])\n",
        "\n",
        "            loss_it.append(loss.item())\n",
        "            _, tag_seq  = torch.max(logits, 1)\n",
        "\n",
        "            correct = (tag_seq.flatten() == batch['label'].flatten()).float().sum()\n",
        "            acc = correct / batch['label'].flatten().size(0)\n",
        "            acc_it.append(acc.item())\n",
        "\n",
        "            preds.extend(tag_seq.cpu().detach().tolist())\n",
        "            trues.extend(batch['label'].cpu().detach().tolist())\n",
        "\n",
        "    loss_it_avg = sum(loss_it)/len(loss_it)\n",
        "    acc_it_avg = sum(acc_it)/len(acc_it)\n",
        "  \n",
        "    print(\"%s : (%s %s) (%s %s)\" % ( colored(target, 'blue'), colored('loss', 'cyan'), sum(loss_it)/len(loss_it), colored('acc', 'cyan'), sum(acc_it) / len(acc_it)))\n",
        "\n",
        "    return trues, preds, loss_it_avg, acc_it_avg, loss_it, acc_it\n",
        "\n",
        "\n",
        "def run_epochs(model_embedding, model_classifier, train_loader, val_loader, args):\n",
        "    args['device'] = device\n",
        "    optimizer = optim.Adam(model_classifier.parameters(), lr = args['lr'])\n",
        "    val_ep_losses = list()\n",
        "    for ep in range(args['max_eps']):\n",
        "        train(model_embedding, model_classifier, train_loader, optimizer, ep, args)\n",
        "        trues, preds, val_loss_it_avg, val_acc_it_avg, val_loss_it, val_acc_it = inference(model_embedding, model_classifier, val_loader, model)\n",
        "        val_ep_losses.append(val_loss_it_avg)\n",
        "    return val_ep_losses\n",
        "\n"
      ],
      "metadata": {
        "id": "a6gS28_1D4Za"
      },
      "id": "a6gS28_1D4Za",
      "execution_count": null,
      "outputs": []
    },
    {
      "cell_type": "code",
      "source": [
        "train_loader_stars = DataLoader(yelp_Dataset(train_dataset_bert, label = 'stars'), batch_size=16, num_workers=2, shuffle=True, drop_last=True)\n",
        "val_loader_stars   = DataLoader(yelp_Dataset(val_dataset_bert, label = 'stars'), batch_size=args['bsize'], num_workers=2, shuffle=True, drop_last=True)\n",
        "test_loader_stars  = DataLoader(yelp_Dataset(test_dataset_bert, label = 'stars'), batch_size=args['bsize'], num_workers=2, shuffle=True, drop_last=True)"
      ],
      "metadata": {
        "id": "QyNz_kFRe62_"
      },
      "id": "QyNz_kFRe62_",
      "execution_count": null,
      "outputs": []
    },
    {
      "cell_type": "code",
      "source": [
        "embeddim = 768\n",
        "hiddendim = 50\n",
        "outputdim = 5 \n",
        "args.update({'max_eps': 5, 'lr': 0.001, 'device': 'cpu', 'cuda': 0, 'num_class': 5})\n",
        "\n",
        "model_bert_stars = ClassifierBERT(embeddim, hiddendim, outputdim).to(device)\n",
        "loss_list_val_bert_stars = run_epochs(Bert, model_bert_stars, train_loader_stars, val_loader_stars, args)\n"
      ],
      "metadata": {
        "id": "1MYc8DWHsx-i"
      },
      "id": "1MYc8DWHsx-i",
      "execution_count": null,
      "outputs": []
    },
    {
      "cell_type": "code",
      "source": [
        ""
      ],
      "metadata": {
        "id": "lVIcKpx6DWV3"
      },
      "id": "lVIcKpx6DWV3",
      "execution_count": null,
      "outputs": []
    },
    {
      "cell_type": "code",
      "source": [
        ""
      ],
      "metadata": {
        "id": "bv6Fk8TZEtdB"
      },
      "id": "bv6Fk8TZEtdB",
      "execution_count": null,
      "outputs": []
    }
  ],
  "metadata": {
    "accelerator": "GPU",
    "colab": {
      "collapsed_sections": [],
      "name": "nlp.ipynb",
      "provenance": [],
      "machine_shape": "hm"
    },
    "kernelspec": {
      "display_name": "Python 3 (ipykernel)",
      "language": "python",
      "name": "python3"
    },
    "language_info": {
      "codemirror_mode": {
        "name": "ipython",
        "version": 3
      },
      "file_extension": ".py",
      "mimetype": "text/x-python",
      "name": "python",
      "nbconvert_exporter": "python",
      "pygments_lexer": "ipython3",
      "version": "3.9.7"
    },
    "widgets": {
      "application/vnd.jupyter.widget-state+json": {
        "1eb29c9af4d949a79890ea45a5004b96": {
          "model_module": "@jupyter-widgets/controls",
          "model_name": "HBoxModel",
          "model_module_version": "1.5.0",
          "state": {
            "_dom_classes": [],
            "_model_module": "@jupyter-widgets/controls",
            "_model_module_version": "1.5.0",
            "_model_name": "HBoxModel",
            "_view_count": null,
            "_view_module": "@jupyter-widgets/controls",
            "_view_module_version": "1.5.0",
            "_view_name": "HBoxView",
            "box_style": "",
            "children": [
              "IPY_MODEL_5c424c773c7440218e566a4b8e0a4f3b",
              "IPY_MODEL_ed4c4e4dc5f6463294a1c7db978a89ac",
              "IPY_MODEL_096e255d5b894d0c92fcdf3bb2c1f84c"
            ],
            "layout": "IPY_MODEL_59719d29ff104b89b0ed6ef42a94e209"
          }
        },
        "5c424c773c7440218e566a4b8e0a4f3b": {
          "model_module": "@jupyter-widgets/controls",
          "model_name": "HTMLModel",
          "model_module_version": "1.5.0",
          "state": {
            "_dom_classes": [],
            "_model_module": "@jupyter-widgets/controls",
            "_model_module_version": "1.5.0",
            "_model_name": "HTMLModel",
            "_view_count": null,
            "_view_module": "@jupyter-widgets/controls",
            "_view_module_version": "1.5.0",
            "_view_name": "HTMLView",
            "description": "",
            "description_tooltip": null,
            "layout": "IPY_MODEL_f77eb862b1934f4a95e12b77aa46741e",
            "placeholder": "​",
            "style": "IPY_MODEL_24dcad05ddab4ddfbc19114317332175",
            "value": "100%"
          }
        },
        "ed4c4e4dc5f6463294a1c7db978a89ac": {
          "model_module": "@jupyter-widgets/controls",
          "model_name": "FloatProgressModel",
          "model_module_version": "1.5.0",
          "state": {
            "_dom_classes": [],
            "_model_module": "@jupyter-widgets/controls",
            "_model_module_version": "1.5.0",
            "_model_name": "FloatProgressModel",
            "_view_count": null,
            "_view_module": "@jupyter-widgets/controls",
            "_view_module_version": "1.5.0",
            "_view_name": "ProgressView",
            "bar_style": "success",
            "description": "",
            "description_tooltip": null,
            "layout": "IPY_MODEL_d260f5d2c0f94754897d0e206cb1479d",
            "max": 91,
            "min": 0,
            "orientation": "horizontal",
            "style": "IPY_MODEL_ca46e935c1fe4eb4b246b22ed11a56cd",
            "value": 91
          }
        },
        "096e255d5b894d0c92fcdf3bb2c1f84c": {
          "model_module": "@jupyter-widgets/controls",
          "model_name": "HTMLModel",
          "model_module_version": "1.5.0",
          "state": {
            "_dom_classes": [],
            "_model_module": "@jupyter-widgets/controls",
            "_model_module_version": "1.5.0",
            "_model_name": "HTMLModel",
            "_view_count": null,
            "_view_module": "@jupyter-widgets/controls",
            "_view_module_version": "1.5.0",
            "_view_name": "HTMLView",
            "description": "",
            "description_tooltip": null,
            "layout": "IPY_MODEL_5d6c9eefefcc488abfe4ee898b822a57",
            "placeholder": "​",
            "style": "IPY_MODEL_b0584ebeac344825afde7faf4c512150",
            "value": " 91/91 [05:02&lt;00:00,  3.22s/ba]"
          }
        },
        "59719d29ff104b89b0ed6ef42a94e209": {
          "model_module": "@jupyter-widgets/base",
          "model_name": "LayoutModel",
          "model_module_version": "1.2.0",
          "state": {
            "_model_module": "@jupyter-widgets/base",
            "_model_module_version": "1.2.0",
            "_model_name": "LayoutModel",
            "_view_count": null,
            "_view_module": "@jupyter-widgets/base",
            "_view_module_version": "1.2.0",
            "_view_name": "LayoutView",
            "align_content": null,
            "align_items": null,
            "align_self": null,
            "border": null,
            "bottom": null,
            "display": null,
            "flex": null,
            "flex_flow": null,
            "grid_area": null,
            "grid_auto_columns": null,
            "grid_auto_flow": null,
            "grid_auto_rows": null,
            "grid_column": null,
            "grid_gap": null,
            "grid_row": null,
            "grid_template_areas": null,
            "grid_template_columns": null,
            "grid_template_rows": null,
            "height": null,
            "justify_content": null,
            "justify_items": null,
            "left": null,
            "margin": null,
            "max_height": null,
            "max_width": null,
            "min_height": null,
            "min_width": null,
            "object_fit": null,
            "object_position": null,
            "order": null,
            "overflow": null,
            "overflow_x": null,
            "overflow_y": null,
            "padding": null,
            "right": null,
            "top": null,
            "visibility": null,
            "width": null
          }
        },
        "f77eb862b1934f4a95e12b77aa46741e": {
          "model_module": "@jupyter-widgets/base",
          "model_name": "LayoutModel",
          "model_module_version": "1.2.0",
          "state": {
            "_model_module": "@jupyter-widgets/base",
            "_model_module_version": "1.2.0",
            "_model_name": "LayoutModel",
            "_view_count": null,
            "_view_module": "@jupyter-widgets/base",
            "_view_module_version": "1.2.0",
            "_view_name": "LayoutView",
            "align_content": null,
            "align_items": null,
            "align_self": null,
            "border": null,
            "bottom": null,
            "display": null,
            "flex": null,
            "flex_flow": null,
            "grid_area": null,
            "grid_auto_columns": null,
            "grid_auto_flow": null,
            "grid_auto_rows": null,
            "grid_column": null,
            "grid_gap": null,
            "grid_row": null,
            "grid_template_areas": null,
            "grid_template_columns": null,
            "grid_template_rows": null,
            "height": null,
            "justify_content": null,
            "justify_items": null,
            "left": null,
            "margin": null,
            "max_height": null,
            "max_width": null,
            "min_height": null,
            "min_width": null,
            "object_fit": null,
            "object_position": null,
            "order": null,
            "overflow": null,
            "overflow_x": null,
            "overflow_y": null,
            "padding": null,
            "right": null,
            "top": null,
            "visibility": null,
            "width": null
          }
        },
        "24dcad05ddab4ddfbc19114317332175": {
          "model_module": "@jupyter-widgets/controls",
          "model_name": "DescriptionStyleModel",
          "model_module_version": "1.5.0",
          "state": {
            "_model_module": "@jupyter-widgets/controls",
            "_model_module_version": "1.5.0",
            "_model_name": "DescriptionStyleModel",
            "_view_count": null,
            "_view_module": "@jupyter-widgets/base",
            "_view_module_version": "1.2.0",
            "_view_name": "StyleView",
            "description_width": ""
          }
        },
        "d260f5d2c0f94754897d0e206cb1479d": {
          "model_module": "@jupyter-widgets/base",
          "model_name": "LayoutModel",
          "model_module_version": "1.2.0",
          "state": {
            "_model_module": "@jupyter-widgets/base",
            "_model_module_version": "1.2.0",
            "_model_name": "LayoutModel",
            "_view_count": null,
            "_view_module": "@jupyter-widgets/base",
            "_view_module_version": "1.2.0",
            "_view_name": "LayoutView",
            "align_content": null,
            "align_items": null,
            "align_self": null,
            "border": null,
            "bottom": null,
            "display": null,
            "flex": null,
            "flex_flow": null,
            "grid_area": null,
            "grid_auto_columns": null,
            "grid_auto_flow": null,
            "grid_auto_rows": null,
            "grid_column": null,
            "grid_gap": null,
            "grid_row": null,
            "grid_template_areas": null,
            "grid_template_columns": null,
            "grid_template_rows": null,
            "height": null,
            "justify_content": null,
            "justify_items": null,
            "left": null,
            "margin": null,
            "max_height": null,
            "max_width": null,
            "min_height": null,
            "min_width": null,
            "object_fit": null,
            "object_position": null,
            "order": null,
            "overflow": null,
            "overflow_x": null,
            "overflow_y": null,
            "padding": null,
            "right": null,
            "top": null,
            "visibility": null,
            "width": null
          }
        },
        "ca46e935c1fe4eb4b246b22ed11a56cd": {
          "model_module": "@jupyter-widgets/controls",
          "model_name": "ProgressStyleModel",
          "model_module_version": "1.5.0",
          "state": {
            "_model_module": "@jupyter-widgets/controls",
            "_model_module_version": "1.5.0",
            "_model_name": "ProgressStyleModel",
            "_view_count": null,
            "_view_module": "@jupyter-widgets/base",
            "_view_module_version": "1.2.0",
            "_view_name": "StyleView",
            "bar_color": null,
            "description_width": ""
          }
        },
        "5d6c9eefefcc488abfe4ee898b822a57": {
          "model_module": "@jupyter-widgets/base",
          "model_name": "LayoutModel",
          "model_module_version": "1.2.0",
          "state": {
            "_model_module": "@jupyter-widgets/base",
            "_model_module_version": "1.2.0",
            "_model_name": "LayoutModel",
            "_view_count": null,
            "_view_module": "@jupyter-widgets/base",
            "_view_module_version": "1.2.0",
            "_view_name": "LayoutView",
            "align_content": null,
            "align_items": null,
            "align_self": null,
            "border": null,
            "bottom": null,
            "display": null,
            "flex": null,
            "flex_flow": null,
            "grid_area": null,
            "grid_auto_columns": null,
            "grid_auto_flow": null,
            "grid_auto_rows": null,
            "grid_column": null,
            "grid_gap": null,
            "grid_row": null,
            "grid_template_areas": null,
            "grid_template_columns": null,
            "grid_template_rows": null,
            "height": null,
            "justify_content": null,
            "justify_items": null,
            "left": null,
            "margin": null,
            "max_height": null,
            "max_width": null,
            "min_height": null,
            "min_width": null,
            "object_fit": null,
            "object_position": null,
            "order": null,
            "overflow": null,
            "overflow_x": null,
            "overflow_y": null,
            "padding": null,
            "right": null,
            "top": null,
            "visibility": null,
            "width": null
          }
        },
        "b0584ebeac344825afde7faf4c512150": {
          "model_module": "@jupyter-widgets/controls",
          "model_name": "DescriptionStyleModel",
          "model_module_version": "1.5.0",
          "state": {
            "_model_module": "@jupyter-widgets/controls",
            "_model_module_version": "1.5.0",
            "_model_name": "DescriptionStyleModel",
            "_view_count": null,
            "_view_module": "@jupyter-widgets/base",
            "_view_module_version": "1.2.0",
            "_view_name": "StyleView",
            "description_width": ""
          }
        },
        "0a1b728b7fee4853aa7d2a5edf17bd1c": {
          "model_module": "@jupyter-widgets/controls",
          "model_name": "HBoxModel",
          "model_module_version": "1.5.0",
          "state": {
            "_dom_classes": [],
            "_model_module": "@jupyter-widgets/controls",
            "_model_module_version": "1.5.0",
            "_model_name": "HBoxModel",
            "_view_count": null,
            "_view_module": "@jupyter-widgets/controls",
            "_view_module_version": "1.5.0",
            "_view_name": "HBoxView",
            "box_style": "",
            "children": [
              "IPY_MODEL_77bb42ed816542abb53eaade9a6be937",
              "IPY_MODEL_9bebc810f87d4cfeb3611696158e185b",
              "IPY_MODEL_9d590d0e1f074c50b16bc9e289f44e7d"
            ],
            "layout": "IPY_MODEL_94be14615c7445b4bb292cd76495866f"
          }
        },
        "77bb42ed816542abb53eaade9a6be937": {
          "model_module": "@jupyter-widgets/controls",
          "model_name": "HTMLModel",
          "model_module_version": "1.5.0",
          "state": {
            "_dom_classes": [],
            "_model_module": "@jupyter-widgets/controls",
            "_model_module_version": "1.5.0",
            "_model_name": "HTMLModel",
            "_view_count": null,
            "_view_module": "@jupyter-widgets/controls",
            "_view_module_version": "1.5.0",
            "_view_name": "HTMLView",
            "description": "",
            "description_tooltip": null,
            "layout": "IPY_MODEL_e0d9f39de2f74a32ad8e3cfe1d3eac54",
            "placeholder": "​",
            "style": "IPY_MODEL_a66dd8b3a65a4f229787f3d94e1664ba",
            "value": "100%"
          }
        },
        "9bebc810f87d4cfeb3611696158e185b": {
          "model_module": "@jupyter-widgets/controls",
          "model_name": "FloatProgressModel",
          "model_module_version": "1.5.0",
          "state": {
            "_dom_classes": [],
            "_model_module": "@jupyter-widgets/controls",
            "_model_module_version": "1.5.0",
            "_model_name": "FloatProgressModel",
            "_view_count": null,
            "_view_module": "@jupyter-widgets/controls",
            "_view_module_version": "1.5.0",
            "_view_name": "ProgressView",
            "bar_style": "success",
            "description": "",
            "description_tooltip": null,
            "layout": "IPY_MODEL_8fc817745e914f1d883b3c47b1c542ab",
            "max": 5,
            "min": 0,
            "orientation": "horizontal",
            "style": "IPY_MODEL_b16b7fcb359943d7bfa9b35bb916f221",
            "value": 5
          }
        },
        "9d590d0e1f074c50b16bc9e289f44e7d": {
          "model_module": "@jupyter-widgets/controls",
          "model_name": "HTMLModel",
          "model_module_version": "1.5.0",
          "state": {
            "_dom_classes": [],
            "_model_module": "@jupyter-widgets/controls",
            "_model_module_version": "1.5.0",
            "_model_name": "HTMLModel",
            "_view_count": null,
            "_view_module": "@jupyter-widgets/controls",
            "_view_module_version": "1.5.0",
            "_view_name": "HTMLView",
            "description": "",
            "description_tooltip": null,
            "layout": "IPY_MODEL_ad02928eb6fc48d3973d729e2047bc99",
            "placeholder": "​",
            "style": "IPY_MODEL_2f797b307c1b4a70824838e36c7bce9c",
            "value": " 5/5 [00:16&lt;00:00,  3.28s/ba]"
          }
        },
        "94be14615c7445b4bb292cd76495866f": {
          "model_module": "@jupyter-widgets/base",
          "model_name": "LayoutModel",
          "model_module_version": "1.2.0",
          "state": {
            "_model_module": "@jupyter-widgets/base",
            "_model_module_version": "1.2.0",
            "_model_name": "LayoutModel",
            "_view_count": null,
            "_view_module": "@jupyter-widgets/base",
            "_view_module_version": "1.2.0",
            "_view_name": "LayoutView",
            "align_content": null,
            "align_items": null,
            "align_self": null,
            "border": null,
            "bottom": null,
            "display": null,
            "flex": null,
            "flex_flow": null,
            "grid_area": null,
            "grid_auto_columns": null,
            "grid_auto_flow": null,
            "grid_auto_rows": null,
            "grid_column": null,
            "grid_gap": null,
            "grid_row": null,
            "grid_template_areas": null,
            "grid_template_columns": null,
            "grid_template_rows": null,
            "height": null,
            "justify_content": null,
            "justify_items": null,
            "left": null,
            "margin": null,
            "max_height": null,
            "max_width": null,
            "min_height": null,
            "min_width": null,
            "object_fit": null,
            "object_position": null,
            "order": null,
            "overflow": null,
            "overflow_x": null,
            "overflow_y": null,
            "padding": null,
            "right": null,
            "top": null,
            "visibility": null,
            "width": null
          }
        },
        "e0d9f39de2f74a32ad8e3cfe1d3eac54": {
          "model_module": "@jupyter-widgets/base",
          "model_name": "LayoutModel",
          "model_module_version": "1.2.0",
          "state": {
            "_model_module": "@jupyter-widgets/base",
            "_model_module_version": "1.2.0",
            "_model_name": "LayoutModel",
            "_view_count": null,
            "_view_module": "@jupyter-widgets/base",
            "_view_module_version": "1.2.0",
            "_view_name": "LayoutView",
            "align_content": null,
            "align_items": null,
            "align_self": null,
            "border": null,
            "bottom": null,
            "display": null,
            "flex": null,
            "flex_flow": null,
            "grid_area": null,
            "grid_auto_columns": null,
            "grid_auto_flow": null,
            "grid_auto_rows": null,
            "grid_column": null,
            "grid_gap": null,
            "grid_row": null,
            "grid_template_areas": null,
            "grid_template_columns": null,
            "grid_template_rows": null,
            "height": null,
            "justify_content": null,
            "justify_items": null,
            "left": null,
            "margin": null,
            "max_height": null,
            "max_width": null,
            "min_height": null,
            "min_width": null,
            "object_fit": null,
            "object_position": null,
            "order": null,
            "overflow": null,
            "overflow_x": null,
            "overflow_y": null,
            "padding": null,
            "right": null,
            "top": null,
            "visibility": null,
            "width": null
          }
        },
        "a66dd8b3a65a4f229787f3d94e1664ba": {
          "model_module": "@jupyter-widgets/controls",
          "model_name": "DescriptionStyleModel",
          "model_module_version": "1.5.0",
          "state": {
            "_model_module": "@jupyter-widgets/controls",
            "_model_module_version": "1.5.0",
            "_model_name": "DescriptionStyleModel",
            "_view_count": null,
            "_view_module": "@jupyter-widgets/base",
            "_view_module_version": "1.2.0",
            "_view_name": "StyleView",
            "description_width": ""
          }
        },
        "8fc817745e914f1d883b3c47b1c542ab": {
          "model_module": "@jupyter-widgets/base",
          "model_name": "LayoutModel",
          "model_module_version": "1.2.0",
          "state": {
            "_model_module": "@jupyter-widgets/base",
            "_model_module_version": "1.2.0",
            "_model_name": "LayoutModel",
            "_view_count": null,
            "_view_module": "@jupyter-widgets/base",
            "_view_module_version": "1.2.0",
            "_view_name": "LayoutView",
            "align_content": null,
            "align_items": null,
            "align_self": null,
            "border": null,
            "bottom": null,
            "display": null,
            "flex": null,
            "flex_flow": null,
            "grid_area": null,
            "grid_auto_columns": null,
            "grid_auto_flow": null,
            "grid_auto_rows": null,
            "grid_column": null,
            "grid_gap": null,
            "grid_row": null,
            "grid_template_areas": null,
            "grid_template_columns": null,
            "grid_template_rows": null,
            "height": null,
            "justify_content": null,
            "justify_items": null,
            "left": null,
            "margin": null,
            "max_height": null,
            "max_width": null,
            "min_height": null,
            "min_width": null,
            "object_fit": null,
            "object_position": null,
            "order": null,
            "overflow": null,
            "overflow_x": null,
            "overflow_y": null,
            "padding": null,
            "right": null,
            "top": null,
            "visibility": null,
            "width": null
          }
        },
        "b16b7fcb359943d7bfa9b35bb916f221": {
          "model_module": "@jupyter-widgets/controls",
          "model_name": "ProgressStyleModel",
          "model_module_version": "1.5.0",
          "state": {
            "_model_module": "@jupyter-widgets/controls",
            "_model_module_version": "1.5.0",
            "_model_name": "ProgressStyleModel",
            "_view_count": null,
            "_view_module": "@jupyter-widgets/base",
            "_view_module_version": "1.2.0",
            "_view_name": "StyleView",
            "bar_color": null,
            "description_width": ""
          }
        },
        "ad02928eb6fc48d3973d729e2047bc99": {
          "model_module": "@jupyter-widgets/base",
          "model_name": "LayoutModel",
          "model_module_version": "1.2.0",
          "state": {
            "_model_module": "@jupyter-widgets/base",
            "_model_module_version": "1.2.0",
            "_model_name": "LayoutModel",
            "_view_count": null,
            "_view_module": "@jupyter-widgets/base",
            "_view_module_version": "1.2.0",
            "_view_name": "LayoutView",
            "align_content": null,
            "align_items": null,
            "align_self": null,
            "border": null,
            "bottom": null,
            "display": null,
            "flex": null,
            "flex_flow": null,
            "grid_area": null,
            "grid_auto_columns": null,
            "grid_auto_flow": null,
            "grid_auto_rows": null,
            "grid_column": null,
            "grid_gap": null,
            "grid_row": null,
            "grid_template_areas": null,
            "grid_template_columns": null,
            "grid_template_rows": null,
            "height": null,
            "justify_content": null,
            "justify_items": null,
            "left": null,
            "margin": null,
            "max_height": null,
            "max_width": null,
            "min_height": null,
            "min_width": null,
            "object_fit": null,
            "object_position": null,
            "order": null,
            "overflow": null,
            "overflow_x": null,
            "overflow_y": null,
            "padding": null,
            "right": null,
            "top": null,
            "visibility": null,
            "width": null
          }
        },
        "2f797b307c1b4a70824838e36c7bce9c": {
          "model_module": "@jupyter-widgets/controls",
          "model_name": "DescriptionStyleModel",
          "model_module_version": "1.5.0",
          "state": {
            "_model_module": "@jupyter-widgets/controls",
            "_model_module_version": "1.5.0",
            "_model_name": "DescriptionStyleModel",
            "_view_count": null,
            "_view_module": "@jupyter-widgets/base",
            "_view_module_version": "1.2.0",
            "_view_name": "StyleView",
            "description_width": ""
          }
        },
        "6e2a5bffe6214dc09fcd39cfd1a50d73": {
          "model_module": "@jupyter-widgets/controls",
          "model_name": "HBoxModel",
          "model_module_version": "1.5.0",
          "state": {
            "_dom_classes": [],
            "_model_module": "@jupyter-widgets/controls",
            "_model_module_version": "1.5.0",
            "_model_name": "HBoxModel",
            "_view_count": null,
            "_view_module": "@jupyter-widgets/controls",
            "_view_module_version": "1.5.0",
            "_view_name": "HBoxView",
            "box_style": "",
            "children": [
              "IPY_MODEL_412156051ecf48c79c6bf7e22468c9ee",
              "IPY_MODEL_07e0890e720247e8963d6f100c571131",
              "IPY_MODEL_a768918994ad48cdad190f0941c9b891"
            ],
            "layout": "IPY_MODEL_a744b8fd9f1a4316bee2a4e2e0902764"
          }
        },
        "412156051ecf48c79c6bf7e22468c9ee": {
          "model_module": "@jupyter-widgets/controls",
          "model_name": "HTMLModel",
          "model_module_version": "1.5.0",
          "state": {
            "_dom_classes": [],
            "_model_module": "@jupyter-widgets/controls",
            "_model_module_version": "1.5.0",
            "_model_name": "HTMLModel",
            "_view_count": null,
            "_view_module": "@jupyter-widgets/controls",
            "_view_module_version": "1.5.0",
            "_view_name": "HTMLView",
            "description": "",
            "description_tooltip": null,
            "layout": "IPY_MODEL_decec5ffa2884ce7b387be9d7a0fb6a0",
            "placeholder": "​",
            "style": "IPY_MODEL_636ed77ef202458e82c2d3b10e3ed27a",
            "value": "100%"
          }
        },
        "07e0890e720247e8963d6f100c571131": {
          "model_module": "@jupyter-widgets/controls",
          "model_name": "FloatProgressModel",
          "model_module_version": "1.5.0",
          "state": {
            "_dom_classes": [],
            "_model_module": "@jupyter-widgets/controls",
            "_model_module_version": "1.5.0",
            "_model_name": "FloatProgressModel",
            "_view_count": null,
            "_view_module": "@jupyter-widgets/controls",
            "_view_module_version": "1.5.0",
            "_view_name": "ProgressView",
            "bar_style": "success",
            "description": "",
            "description_tooltip": null,
            "layout": "IPY_MODEL_43e2d9921fdc49c0aa94b8ac642a0eaf",
            "max": 24,
            "min": 0,
            "orientation": "horizontal",
            "style": "IPY_MODEL_d32d2db64e854ea89b9677fef3f4b459",
            "value": 24
          }
        },
        "a768918994ad48cdad190f0941c9b891": {
          "model_module": "@jupyter-widgets/controls",
          "model_name": "HTMLModel",
          "model_module_version": "1.5.0",
          "state": {
            "_dom_classes": [],
            "_model_module": "@jupyter-widgets/controls",
            "_model_module_version": "1.5.0",
            "_model_name": "HTMLModel",
            "_view_count": null,
            "_view_module": "@jupyter-widgets/controls",
            "_view_module_version": "1.5.0",
            "_view_name": "HTMLView",
            "description": "",
            "description_tooltip": null,
            "layout": "IPY_MODEL_555b709cf5a44ad7994df20a4a37fef2",
            "placeholder": "​",
            "style": "IPY_MODEL_bb058d290cfc44a39259bfb664c793da",
            "value": " 24/24 [01:19&lt;00:00,  3.28s/ba]"
          }
        },
        "a744b8fd9f1a4316bee2a4e2e0902764": {
          "model_module": "@jupyter-widgets/base",
          "model_name": "LayoutModel",
          "model_module_version": "1.2.0",
          "state": {
            "_model_module": "@jupyter-widgets/base",
            "_model_module_version": "1.2.0",
            "_model_name": "LayoutModel",
            "_view_count": null,
            "_view_module": "@jupyter-widgets/base",
            "_view_module_version": "1.2.0",
            "_view_name": "LayoutView",
            "align_content": null,
            "align_items": null,
            "align_self": null,
            "border": null,
            "bottom": null,
            "display": null,
            "flex": null,
            "flex_flow": null,
            "grid_area": null,
            "grid_auto_columns": null,
            "grid_auto_flow": null,
            "grid_auto_rows": null,
            "grid_column": null,
            "grid_gap": null,
            "grid_row": null,
            "grid_template_areas": null,
            "grid_template_columns": null,
            "grid_template_rows": null,
            "height": null,
            "justify_content": null,
            "justify_items": null,
            "left": null,
            "margin": null,
            "max_height": null,
            "max_width": null,
            "min_height": null,
            "min_width": null,
            "object_fit": null,
            "object_position": null,
            "order": null,
            "overflow": null,
            "overflow_x": null,
            "overflow_y": null,
            "padding": null,
            "right": null,
            "top": null,
            "visibility": null,
            "width": null
          }
        },
        "decec5ffa2884ce7b387be9d7a0fb6a0": {
          "model_module": "@jupyter-widgets/base",
          "model_name": "LayoutModel",
          "model_module_version": "1.2.0",
          "state": {
            "_model_module": "@jupyter-widgets/base",
            "_model_module_version": "1.2.0",
            "_model_name": "LayoutModel",
            "_view_count": null,
            "_view_module": "@jupyter-widgets/base",
            "_view_module_version": "1.2.0",
            "_view_name": "LayoutView",
            "align_content": null,
            "align_items": null,
            "align_self": null,
            "border": null,
            "bottom": null,
            "display": null,
            "flex": null,
            "flex_flow": null,
            "grid_area": null,
            "grid_auto_columns": null,
            "grid_auto_flow": null,
            "grid_auto_rows": null,
            "grid_column": null,
            "grid_gap": null,
            "grid_row": null,
            "grid_template_areas": null,
            "grid_template_columns": null,
            "grid_template_rows": null,
            "height": null,
            "justify_content": null,
            "justify_items": null,
            "left": null,
            "margin": null,
            "max_height": null,
            "max_width": null,
            "min_height": null,
            "min_width": null,
            "object_fit": null,
            "object_position": null,
            "order": null,
            "overflow": null,
            "overflow_x": null,
            "overflow_y": null,
            "padding": null,
            "right": null,
            "top": null,
            "visibility": null,
            "width": null
          }
        },
        "636ed77ef202458e82c2d3b10e3ed27a": {
          "model_module": "@jupyter-widgets/controls",
          "model_name": "DescriptionStyleModel",
          "model_module_version": "1.5.0",
          "state": {
            "_model_module": "@jupyter-widgets/controls",
            "_model_module_version": "1.5.0",
            "_model_name": "DescriptionStyleModel",
            "_view_count": null,
            "_view_module": "@jupyter-widgets/base",
            "_view_module_version": "1.2.0",
            "_view_name": "StyleView",
            "description_width": ""
          }
        },
        "43e2d9921fdc49c0aa94b8ac642a0eaf": {
          "model_module": "@jupyter-widgets/base",
          "model_name": "LayoutModel",
          "model_module_version": "1.2.0",
          "state": {
            "_model_module": "@jupyter-widgets/base",
            "_model_module_version": "1.2.0",
            "_model_name": "LayoutModel",
            "_view_count": null,
            "_view_module": "@jupyter-widgets/base",
            "_view_module_version": "1.2.0",
            "_view_name": "LayoutView",
            "align_content": null,
            "align_items": null,
            "align_self": null,
            "border": null,
            "bottom": null,
            "display": null,
            "flex": null,
            "flex_flow": null,
            "grid_area": null,
            "grid_auto_columns": null,
            "grid_auto_flow": null,
            "grid_auto_rows": null,
            "grid_column": null,
            "grid_gap": null,
            "grid_row": null,
            "grid_template_areas": null,
            "grid_template_columns": null,
            "grid_template_rows": null,
            "height": null,
            "justify_content": null,
            "justify_items": null,
            "left": null,
            "margin": null,
            "max_height": null,
            "max_width": null,
            "min_height": null,
            "min_width": null,
            "object_fit": null,
            "object_position": null,
            "order": null,
            "overflow": null,
            "overflow_x": null,
            "overflow_y": null,
            "padding": null,
            "right": null,
            "top": null,
            "visibility": null,
            "width": null
          }
        },
        "d32d2db64e854ea89b9677fef3f4b459": {
          "model_module": "@jupyter-widgets/controls",
          "model_name": "ProgressStyleModel",
          "model_module_version": "1.5.0",
          "state": {
            "_model_module": "@jupyter-widgets/controls",
            "_model_module_version": "1.5.0",
            "_model_name": "ProgressStyleModel",
            "_view_count": null,
            "_view_module": "@jupyter-widgets/base",
            "_view_module_version": "1.2.0",
            "_view_name": "StyleView",
            "bar_color": null,
            "description_width": ""
          }
        },
        "555b709cf5a44ad7994df20a4a37fef2": {
          "model_module": "@jupyter-widgets/base",
          "model_name": "LayoutModel",
          "model_module_version": "1.2.0",
          "state": {
            "_model_module": "@jupyter-widgets/base",
            "_model_module_version": "1.2.0",
            "_model_name": "LayoutModel",
            "_view_count": null,
            "_view_module": "@jupyter-widgets/base",
            "_view_module_version": "1.2.0",
            "_view_name": "LayoutView",
            "align_content": null,
            "align_items": null,
            "align_self": null,
            "border": null,
            "bottom": null,
            "display": null,
            "flex": null,
            "flex_flow": null,
            "grid_area": null,
            "grid_auto_columns": null,
            "grid_auto_flow": null,
            "grid_auto_rows": null,
            "grid_column": null,
            "grid_gap": null,
            "grid_row": null,
            "grid_template_areas": null,
            "grid_template_columns": null,
            "grid_template_rows": null,
            "height": null,
            "justify_content": null,
            "justify_items": null,
            "left": null,
            "margin": null,
            "max_height": null,
            "max_width": null,
            "min_height": null,
            "min_width": null,
            "object_fit": null,
            "object_position": null,
            "order": null,
            "overflow": null,
            "overflow_x": null,
            "overflow_y": null,
            "padding": null,
            "right": null,
            "top": null,
            "visibility": null,
            "width": null
          }
        },
        "bb058d290cfc44a39259bfb664c793da": {
          "model_module": "@jupyter-widgets/controls",
          "model_name": "DescriptionStyleModel",
          "model_module_version": "1.5.0",
          "state": {
            "_model_module": "@jupyter-widgets/controls",
            "_model_module_version": "1.5.0",
            "_model_name": "DescriptionStyleModel",
            "_view_count": null,
            "_view_module": "@jupyter-widgets/base",
            "_view_module_version": "1.2.0",
            "_view_name": "StyleView",
            "description_width": ""
          }
        }
      }
    }
  },
  "nbformat": 4,
  "nbformat_minor": 5
}